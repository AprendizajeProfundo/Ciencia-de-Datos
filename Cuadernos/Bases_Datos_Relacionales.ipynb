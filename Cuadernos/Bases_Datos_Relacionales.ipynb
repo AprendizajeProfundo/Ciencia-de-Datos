{
 "cells": [
  {
   "cell_type": "markdown",
   "id": "foster-recommendation",
   "metadata": {
    "tags": []
   },
   "source": [
    "# <span style=\"color:green\"><center>Diplomado en Big Data</center></span>"
   ]
  },
  {
   "cell_type": "markdown",
   "id": "tough-choice",
   "metadata": {},
   "source": [
    "# <span style=\"color:red\"><center>Introducción a bases de datos relacionales<center></span>"
   ]
  },
  {
   "cell_type": "markdown",
   "id": "boring-retention",
   "metadata": {},
   "source": [
    "##   <span style=\"color:blue\">Profesores</span>"
   ]
  },
  {
   "cell_type": "markdown",
   "id": "billion-tunisia",
   "metadata": {},
   "source": [
    "1. Alvaro Mauricio Montenegro Díaz, ammontenegrod@unal.edu.co\n",
    "2. Daniel Mauricio Montenegro Reyes, dextronomo@gmail.com \n",
    "3. Campo Elías Pardo Turriago, cepardot@unal.edu.co "
   ]
  },
  {
   "cell_type": "markdown",
   "id": "burning-calculation",
   "metadata": {},
   "source": [
    "##   <span style=\"color:blue\">Asesora Medios y Marketing digital</span>\n",
    " "
   ]
  },
  {
   "cell_type": "markdown",
   "id": "medieval-topic",
   "metadata": {},
   "source": [
    "4. Maria del Pilar Montenegro, pmontenegro88@gmail.com "
   ]
  },
  {
   "cell_type": "markdown",
   "id": "adult-experiment",
   "metadata": {},
   "source": [
    "## <span style=\"color:blue\">Asistentes</span>"
   ]
  },
  {
   "cell_type": "markdown",
   "id": "sonic-trigger",
   "metadata": {},
   "source": [
    "5. Oleg Jarma, ojarmam@unal.edu.co \n",
    "6. Laura Lizarazo, ljlizarazore@unal.edu.co "
   ]
  },
  {
   "cell_type": "markdown",
   "id": "threatened-devil",
   "metadata": {},
   "source": [
    "## Contenido"
   ]
  },
  {
   "cell_type": "markdown",
   "id": "objective-elimination",
   "metadata": {},
   "source": []
  },
  {
   "cell_type": "markdown",
   "id": "blocked-element",
   "metadata": {},
   "source": [
    "##   <span style=\"color:blue\">Introducción</span>"
   ]
  },
  {
   "cell_type": "markdown",
   "id": "reserved-roller",
   "metadata": {},
   "source": [
    "Los sistemas de información empresariales son implementados clásicamente sobre sistemas de gestión de bases de datos, cuya identificación genérica es  DBMS del inglés Data Base Management System. Una base de datos es una colección de datos relacionados. \n",
    "\n",
    "Un sistema de gestión de bases de datos (DBMS) es un sistema diseñado fundamentalmente con dos propósitos:\n",
    "\n",
    "+ Adicionar, eliminar o actualizar datos en una base de datos.\n",
    "+ Proveer varios caminos para visualizar los datos contenidos en las bases de datos. \n",
    "\n",
    "Si los datos son simples y los datos son pocos, la base de datos puede constar de una sola tabla (hoja de datos),  en cuyo caso una hoja electrónica y aún un editor de texto puede ser suficiente para mantener el sistema de información. \n",
    "\n",
    "Una base de datos que consta de una única tabla recibe el nombre de base de datos plana, y su construcción y mantenimiento no requiere del conocimiento de la teoría de bases de datos. \n",
    "\n",
    "Sin embargo los sistemas de información de aplicación real constan de cientos miles y aún millones de datos, con muchas e intrincadas relaciones entre ellos. \n",
    "\n",
    "En estos casos es esencial la construcción del diseño de una base de datos relacional. En adelante cada fila de una tabla se llamará registro y cada columna campo.\n"
   ]
  },
  {
   "cell_type": "markdown",
   "id": "pacific-discipline",
   "metadata": {},
   "source": [
    "##   <span style=\"color:blue\">Problemas que se resuelven con una base de datos relacional</span>"
   ]
  },
  {
   "cell_type": "markdown",
   "id": "viral-hudson",
   "metadata": {},
   "source": [
    "El diseño de una base de datos relacional resuelve varios problemas que se presentan al usar una base de datos plana, y otros que estaban presenten en los sistemas de información antiguos diseñados sobre la plataforma de lenguajes de programación puros como Cobol, C, Pascal, etc."
   ]
  },
  {
   "cell_type": "markdown",
   "id": "moderate-dublin",
   "metadata": {},
   "source": [
    "### Redundancia"
   ]
  },
  {
   "cell_type": "markdown",
   "id": "sufficient-spine",
   "metadata": {},
   "source": [
    "El principal problema asociado con la implementación  de una única tabla es la utilización innecesaria de información repetida. La repetición de alguna información es siempre necesaria y lo se busca es remover hasta donde sea posible la información repetida.\n",
    "\n",
    "La siguiente tabla ilustra una base de datos plana. La base contiene datos de algunas instituciones colombianas e incluye un identificador, el nombre de la entidad, el objeto social, que como se observa puede ser mas de uno, la ciudad de ubicación y el departamento al que pertenece la ciudad. "
   ]
  },
  {
   "cell_type": "markdown",
   "id": "configured-character",
   "metadata": {},
   "source": [
    "La redundancia es evidente. Por ejemplo la institución de sigla “INCONTEC” con su IdInst (identificador de la institución),  nombre, ciudad y departamento esta repetida cuatro  veces, cada una con un objeto social distinto."
   ]
  },
  {
   "cell_type": "markdown",
   "id": "recognized-makeup",
   "metadata": {},
   "source": [
    "\n",
    "\n",
    "|IdInst|Nombre|Sigla|Objeto|Ciudad|Departamento|\n",
    "|---|---|---|---|---|---|\n",
    "|2202|Instituto Colombiano de la Reforma Agraria|INCORA|Educación|Santa Marta|Magdalena|\n",
    "|2202|Instituto Colombiano de la Reforma Agraria|INCORA|Investigación|Santa Marta|Magdalena|\n",
    "|2204|Instituto Colombiano de Medicina Tropical Antonio Roldan Betancur|ICMT|Educación|Medellín|Antioquia|\n",
    "|2204|Instituto Colombiano de Medicina Tropical Antonio Roldan Betancur|ICMT|Investigación|Medellín|Antioquia|\n",
    "|2204|Instituto Colombiano de Medicina Tropical Antonio Roldan Betancur|ICMT|Asesoría|Medellín|Antioquia|\n",
    "|2208|Instituto Colombiano de Normas Técnicas y Certificación|ICONTEC|Educación|Bogotá|Distrito Capital|\n",
    "|2208|Instituto Colombiano de Normas Técnicas y Certificación|ICONTEC|Investigación|Bogotá|Distrito Capital|\n",
    "|2208|Instituto Colombiano de Normas Técnicas y Certificación|ICONTEC|Asesoría|Bogotá|Distrito Capital|\n",
    "|2208|Instituto Colombiano de Normas Técnicas y Certificación|ICONTEC|Financiación|Bogotá|Distrito Capital|\n",
    "|2215|Instituto Colombiano para el Desarrollo de la Ciencia y la Tecnología Francisco José de Caldas|COLCIENCIAS|Educación|Bogotá|Distrito Capital|\n",
    "|2215|Instituto Colombiano para el Desarrollo de la Ciencia y la Tecnología Francisco José de Caldas|COLCIENCIAS|Investigación|Bogotá|Distrito Capital|\n",
    "\n",
    "\n",
    "<center> Tabla 1. Ejemplo de una base de datos plana</center>"
   ]
  },
  {
   "cell_type": "markdown",
   "id": "varying-lesson",
   "metadata": {},
   "source": [
    "### Resolviendo la redundancia"
   ]
  },
  {
   "cell_type": "markdown",
   "id": "consistent-shore",
   "metadata": {},
   "source": [
    "Con el propósito eliminar la redundancia hasta donde sea posible el diseñador de la base de datos debe dividir los datos en múltiples tablas. \n",
    "\n",
    "En el ejemplo anterior, se puede optar por dividir la base en cinco tablas separadas como sigue.\n",
    "\n",
    "+ Una tabla INSTITUCION mostrada en la Tabla   2, en la cual cada registro corresponde a una institución.\n",
    "+ Una tabla OBJETO_INSTITUCION que se muestra en la Tabla   3, en la cual cada objeto corresponde a un registro de la tabla.\n",
    "+ Una tabla CIUDAD que se encuentra en la  Tabla   4, en la cual cada registro corresponde a una ciudad.\n",
    "+ Una tabla DEPARTAMENTO que se observa en Tabla   5, en la que cada registro corresponde a un departamento.\n",
    "+ Finalmente la tabla INSTITUCION_OBJETO_SOCIAL mostrada en la Tabla   6, es requerida para conservar la información el objeto social de las instituciones.\n",
    "\n",
    "\n",
    "Ahora los nombres siglas de las instituciones, al igual que los nombres de las ciudades, de los departamentos y de los objetos sociales aparecen una sola vez. Es claro que aún existe redundancia en los datos, pero como se mencionó antes alguna redundancia es necesaria para mantener las relaciones entre los datos."
   ]
  },
  {
   "cell_type": "markdown",
   "id": "generous-macintosh",
   "metadata": {},
   "source": [
    "\n",
    "|IdInst|Nombre|Sigla|IdCiu|\n",
    "|---|---|---|---|\n",
    "|2202|Instituto Colombiano de la Reforma Agraria|INCORA|2019|\n",
    "|2204|Instituto Colombiano de Medicina Tropical Antonio Roldan Betancur|ICMT|1324|\n",
    "|2208|Instituto Colombiano de Normas Técnicas y Certificación|ICONTEC|2032|\n",
    "|2215|Instituto Colombiano para el Desarrollo de la Ciencia y la Tecnología Francisco José de Caldas|COLCIENCIAS|2032|\n",
    "\n",
    "\n",
    "<center> Tabla 2. Tabla Institución Normalizada</center>\n"
   ]
  },
  {
   "cell_type": "markdown",
   "id": "several-hughes",
   "metadata": {},
   "source": [
    "|IdObjetoSocial|Objeto|\n",
    "|---|---|\n",
    "|1|Educación|\n",
    "|2|Investigación|\n",
    "|3|Tecnología|\n",
    "|4|Asesoría|\n",
    "|5|Financiación|\n",
    "\n",
    "<center> Tabla 3. Tabla Objeto social Normalizada</center>"
   ]
  },
  {
   "cell_type": "markdown",
   "id": "subject-collection",
   "metadata": {},
   "source": [
    "|IdCiu|Ciudad|IdDep|\n",
    "|---|---|---|\n",
    "|1324|Medellín|70|\n",
    "|2019|Santa Marta|88|\n",
    "|2032|Bogotá|83|\n",
    "\n",
    "<center> Tabla 4. Tabla Ciudad Normalizada</center>"
   ]
  },
  {
   "cell_type": "markdown",
   "id": "proprietary-ribbon",
   "metadata": {},
   "source": [
    "|IdDep|NomDep|\n",
    "|---|---|\n",
    "|70|Antioquia|\n",
    "|88||Magdalena|\n",
    "|83|Distrito Capital|\n",
    "\n",
    "<center> Tabla 5. Tabla Departamento Normalizada</center>"
   ]
  },
  {
   "cell_type": "markdown",
   "id": "blind-reference",
   "metadata": {},
   "source": [
    "|IdInst|IdObjetoSocial|\n",
    "|---|---|\n",
    "|2202|1|\n",
    "|2202|2|\n",
    "|2204|1|\n",
    "|2204|2|\n",
    "|2204|4|\n",
    "|2208|1|\n",
    "|2208|2|\n",
    "|2208|4|\n",
    "|2208|5|\n",
    "|2215|1|\n",
    "|2215|2|\n",
    "\n",
    "<center> Tabla 6. Tabla de Relación Institución-Objeto social</center>"
   ]
  },
  {
   "cell_type": "markdown",
   "id": "applied-eligibility",
   "metadata": {},
   "source": [
    "Ahora los nombres siglas de las instituciones, al igual que loa nombres de las ciudades, de los departamentos y de los objetos sociales aparecen una sola vez. Es claro que aún existe redundancia en los datos, pero como se mencionó antes alguna redundancia es necesaria para mantener las relaciones entre los datos.\n",
    "\n",
    "\n",
    "Para el lector tenga una idea del ahorro de espacio al abrir la base plana en cinco tablas, suponga que para el almacenamiento de los campos numéricos se requieren 4 bytes de información y para la información textual se usa el siguiente almacenamiento: 30 caracteres para el nombre de la institución, 20 para el nombre de la ciudad y el departamento y 10 para la sigla. \n",
    "\n",
    "Un carácter por lo general se guarda en 2 bytes. ¿Cuál es la diferencia de almacenamiento si se tienen mil instituciones, 33 departamento, 1031 municipios (ciudades) y 50 objetos sociales?. Supóngase que las instituciones tienen en promedio 1.5  objetos sociales, es decir, que la base plana  tiene mil quinientos registros."
   ]
  },
  {
   "cell_type": "markdown",
   "id": "statistical-habitat",
   "metadata": {},
   "source": [
    "### Problemas de múltiples valores"
   ]
  },
  {
   "cell_type": "markdown",
   "id": "reliable-hypothesis",
   "metadata": {},
   "source": [
    "En el ejemplo se ha observado que una institución puede tener múltiples objetos sociales. Varias soluciones pueden proponerse para almacenar la información. \n",
    "\n",
    "+ La primera es la optada en la Tabla 1, en la cual se incluyen múltiples filas para cada institución, una por cada objeto social. \n",
    "+ Se pueden acomodar varias columnas para acomodar los múltiples objetos, una columna por cada objeto posible.\n",
    "+ Se pueden incluir todos los objetos sociales en la misma columna. \n",
    "\n",
    "La primera solución es un caso obvio de redundancia, como se vio antes. \n",
    "\n",
    "El problema de la segunda solución es que es necesario conocer de antemano el número máximo de posibles objetos sociales, lo que en la práctica es poco probable, además del enorme desperdicio de espacio por columnas  no utilizadas. \n",
    "\n",
    "La tercera solución es la mejor en manejo de espacio, sin embargo tiene el gran inconveniente de no permitir manipular individualmente los objetos sociales. Por ejemplo no es posible obtener directamente la lista de las instituciones que tienen por objeto social *investigación*, u obtener un listado de los objetos sociales."
   ]
  },
  {
   "cell_type": "markdown",
   "id": "ranging-wallace",
   "metadata": {},
   "source": [
    "### Anomalías de actualización"
   ]
  },
  {
   "cell_type": "markdown",
   "id": "architectural-knitting",
   "metadata": {},
   "source": [
    "Si se requiere actualizar, por ejemplo la ciudad de una institución en la base plana, es necesario hacer cambios en cada fila que contiene la respectiva institución. \n",
    "\n",
    "Si se olvida una fila se obtiene una anomalía de actualización y da como resultado una tabla inservible. "
   ]
  },
  {
   "cell_type": "markdown",
   "id": "american-coating",
   "metadata": {},
   "source": [
    "### Anomalías de inserción"
   ]
  },
  {
   "cell_type": "markdown",
   "id": "animal-anxiety",
   "metadata": {},
   "source": [
    "Supóngase que se requiere insertar un nuevo objeto social en la base de datos plana INSTITUCION_PLANA (Tabla   1), pero aun no se tiene información de instituciones con ese objeto social. \n",
    "\n",
    "Si la información debe ser almacenada de todas maneras, se deben almacenar valores NULL en los campos para los cuales no hay información. \n",
    "\n",
    "Pero esto puede tener un problema. Por ejemplo el identificador de la institución(que podría ser el NIT)   puede tener la restricción de no admitir repeticiones con distintas instituciones. \n",
    "\n",
    "Si se incluyen varios registros con campos NULL en campos con tal restricción se genera una anomalía de inserción."
   ]
  },
  {
   "cell_type": "markdown",
   "id": "complimentary-compromise",
   "metadata": {},
   "source": [
    "### Anomalías de eliminación"
   ]
  },
  {
   "cell_type": "markdown",
   "id": "simplified-shaft",
   "metadata": {},
   "source": [
    "\n",
    "Si se eliminan todas las instituciones de la base INSTITUCION_PLANA (Tabla   1),  ubicadas en una  determinada ciudad se pierde la información de tal ciudad. \n",
    "\n",
    "Imagine que de la ciudad se tiene información adicional, por ejemplo de tipo estadístico, tal información se pierde. \n",
    "\n",
    "Este problema se conoce como anomalía de eliminación. \n",
    "\n",
    "Los problemas anteriores son suficientes para justificar la afirmación de que usar una única tabla no es una buena idea. \n",
    "\n",
    "Un buen diseño de base de datos implica que los datos deben ser divididos en varias tablas y que algunas relaciones deben establecerse entre tales tablas. \n",
    "\n",
    "Una base construida de tal forma recibe el nombre de base de datos relacional. No obstante, un diseño de una base de datos relacional no  garantiza eliminar todos los posibles problemas que pueden presentarse con los datos. \n",
    "\n",
    "Exiten ejemplos de problemas adicionales que no discutimos en este documento, pero usted puede empezar a imaginar.\n"
   ]
  },
  {
   "cell_type": "markdown",
   "id": "dedicated-gibraltar",
   "metadata": {},
   "source": [
    "##   <span style=\"color:blue\">Arquitectura de un sistema de bases de datos </span>"
   ]
  },
  {
   "cell_type": "markdown",
   "id": "timely-protest",
   "metadata": {},
   "source": [
    "### Niveles de abstracción de los datos"
   ]
  },
  {
   "cell_type": "markdown",
   "id": "cooperative-lottery",
   "metadata": {},
   "source": [
    "Un sistema de gestión de base de datos (DBMS) es una colección de archivos interrelacionados y un conjunto de programas que permiten acceder y modificar esos archivos. Un objetivo importante de un sistema de gestión de bases de datos es proporcionar a los usuarios una visión abstracta de los datos. El sistema esconde los detalles de cómo se almacenan y mantienen los datos. Un sistema de bases normalmente se representa como en la figura 1."
   ]
  },
  {
   "cell_type": "markdown",
   "id": "dressed-information",
   "metadata": {},
   "source": [
    "![image.png](../Imagenes/abstraccion.jpeg)\n",
    "<center> Figura 1. Niveles de abstracción de datos</center>"
   ]
  },
  {
   "cell_type": "markdown",
   "id": "human-variable",
   "metadata": {},
   "source": [
    "+ **Nivel conceptual.** Es la vista de un sistema de gestión de base de datos (DBMS) es una colección de archivos interrelacionados y un conjunto de programas que permiten acceder y modificar esos archivos. Un objetivo importante de un sistema de gestión de bases de datos es proporcionar a los usuarios una visión abstracta de los datos. El sistema esconde los detalles de cómo se almacenan y mantienen los datos. Un sistema de bases normalmente se representa como en la Figura   1 .3.\n",
    "+ **Nivel físico.** Es  el nivel más bajo de abstracción y describe la forma como los datos se almacenan realmente los datos. En este nivel se describen las estructuras de datose la base de datos como un todo. Este nivel describe la estructura lógica de los datos. En una base de datos relacional los datos son vistos en este nivel como una colección de tablas, con títulos en las columnas que describen los atributos o campos de aquellas. Algunas columnas son utilizadas para establecer relaciones entre tablas.\n",
    "    \n",
    "+ **Nivel de visión.** El nivel más alto de abstracción sólo describe una parte de la base de datos completa. Muchos usuarios de la base de datos están interesados solo en una parte de la base de datos. Para facilitar la interacción de tales usuarios con el sistema se define el nivel de abstracción de visión. El sistema puede proporcionar muchas visiones de la misma base de datos."
   ]
  },
  {
   "cell_type": "markdown",
   "id": "swedish-estimate",
   "metadata": {},
   "source": [
    "### Sistema de gestión de una base de datos (DBMS)"
   ]
  },
  {
   "cell_type": "markdown",
   "id": "executed-mixer",
   "metadata": {},
   "source": [
    "Un DBMS es un sistema software responsable del manejo de todos los aspectos de una base de datos en todos los niveles. \n",
    "\n",
    "Las principales características de que dispone un DBMS son las siguientes:\n",
    "\n",
    "+ **Un mecanismo para la definición de la estructura de una base de datos** (compilador de DDL). Por lo general este mecanismo tiene la forma externa de un lenguaje de definición de datos, o DDL (Data Definition Language). \n",
    "+ **Un mecanismo para la manipulación de los datos** (precompilador DML). Incluye acceso a los datos, ordenación, búsqueda, y definición de filtros. Este mecanismo se conoce externamente como lenguaje de manipulación de datos, o DML (Data Manipulation Language). \n",
    "+ **Interacción con lenguajes o con aplicaciones de alto nivel.** Tales lenguajes toman el nombre de lenguajes anfitrión (host language) y las aplicaciones de alto nivel son llamadas aplicaciones anfitrionas (host application), que permiten la construcción de aplicaciones de propósitos específicos. La idea central es que el manejo de los datos se deja a la base de datos y las aplicaciones para los usuario se construyen en lenguajes anfitriones como C, C++, Visual Basic, etc., en lenguajes aplicativos de bases de datos como Microsoft ACCESS o en aplicaciones anfitrionas como hojas electrónicas y aun procesadores de palabra. \n",
    "\n",
    "\n",
    "+ **Control de concurrencia** para administrar el acceso multiusuario eficiente y correctamente.\n",
    "+ **Un Sistema de seguridad** de los datos.\n",
    "+ **Robustez**, es decir, la habilidad para recuperarse de fallas en el sistema sin pérdida de datos.\n",
    "+ **Un diccionario de datos**. Este es en realidad una base de datos que contiene la lista de definiciones de todos los aspectos de la base de datos. Esto quiere decir que el diccionario de datos es una base de datos de metadatos, es decir de datos sobre los datos. \n",
    "+ **Archivos de datos.** En donde se almacena la base de datos.\n",
    "+ **Indices**, que proporcionan acceso rápido a los elementos de datos que contienen determinados valores.\n",
    "+ **Un mecanismo de réplica*, conocido como motor de réplica (replication engine). El motor de réplica permite replicar o duplicar total o parcialmente los datos en diferentes sitios con el propósito de facilitar la manipulación desde distintos sitios. El motor de réplicas efectúa sincronizaciones periódicas.\n",
    "+ **Un gestor de archivos o administrador de interno de archivos**, que es responsable del almacenamiento y recuperación de los datos desde el archivo físico de la base de datos.\n",
    "+ **Una interface para comunicarse con bases de datos de otros DBMS**. El estándar de interoperatividad entre bases de datos actual es conocido como ODBC (Open Data Base Connetitivy)\n",
    "\n",
    "Los dos primeros mecanismos conforman lo que genéricamente se conoce como **motor de consulta (query engine)** de la base de datos. "
   ]
  },
  {
   "cell_type": "markdown",
   "id": "cloudy-guatemala",
   "metadata": {},
   "source": [
    "![SGBD](../Imagenes/SGBD.jpeg)\n",
    "\n",
    "<center>Figura 2. Sistema de gestión de una base de datos</center>"
   ]
  },
  {
   "cell_type": "markdown",
   "id": "automotive-graphics",
   "metadata": {},
   "source": [
    "##   <span style=\"color:blue\">Modelo Entidad-Relación </span>"
   ]
  },
  {
   "cell_type": "markdown",
   "id": "mature-tennessee",
   "metadata": {},
   "source": [
    "### Introducción"
   ]
  },
  {
   "cell_type": "markdown",
   "id": "commercial-county",
   "metadata": {},
   "source": [
    "El Modelaje entidad-relación es una técnica para definir necesidades de información en la organización. \n",
    "\n",
    "Este proporciona un firme fundamento para desarrollo de sistemas de información de alta calidad. \n",
    "\n",
    "En términos sencillos, el modelaje entidad-relación involucra la identificación de cosas  importantes en la organización (**entidades**), las propiedades de estas cosas (**atributos**) y como estas cosas están relacionadas entre sí (**relaciones**). \n",
    "\n",
    "Un modelo de este tipo se construye con base en un conjunto de técnicas gráficas, que pretenden describir en términos de datos los requerimientos de una organización, siendo el soporte para brindar información de tipo operativo, táctico y gerencial a las personas que la necesitan. \n",
    "\n",
    "La notación usada en este documento fue introducida por ORACLE y se ha convertido en un estándar para el diseño de bases de datos relacionales.\n"
   ]
  },
  {
   "cell_type": "markdown",
   "id": "civil-scoop",
   "metadata": {},
   "source": [
    "### Entidades e instancias"
   ]
  },
  {
   "cell_type": "markdown",
   "id": "behavioral-season",
   "metadata": {},
   "source": [
    "El propósito de una base de datos que forma parte de un sistema de información es almacenar información acerca de ciertos tipos de objetos. En el lenguaje de las bases de datos estos objetos son llamados **instancias**. \n",
    "\n",
    "\n",
    "Así, una entidad es una cosa u objeto de significancia, ya sea real o imaginaria, acerca de la cual se necesita tener información. El ejemplo de inicio, contiene entidades como ciudades, departamentos, instituciones.  \n",
    "\n",
    "Es importante hacer la diferencia entre las entidades que están contenidas en una base de datos en un momento dado(**instancias**) y el mundo de todas las posibles entidades que la base puede contener. \n",
    "\n",
    "La importancia radica en que el contenido de la base de datos cambia continuamente, y las decisiones no pueden tomarse sobre la información actual, sino que se debe pensar sobre el contenido de la base de datos en el futuro.  \n",
    "Por ejemplo la base datos del ejemplo puede 2450 entidades de tipo ciudad.  Sin embargo en el futuro se puede tener algunas otras mas y pueden eliminarse otras. \n",
    "\n",
    "Una **entidad** es el conjunto de todas las posibles instancias que una base de datos puede contener. \n",
    "\n",
    "En el ejemplo, el conjunto de todas las posibles ciudades es la clase entidad CIUDAD. \n",
    "\n",
    "En la implementación se suguiere agregar el prefijo tbl como una convención de nombrado de objetos. Otras clases entidad del ejemplo son: Departamento, Institución, Editorial, Idioma, etc.\n",
    "\n",
    "\n",
    "**"
   ]
  },
  {
   "cell_type": "markdown",
   "id": "seventh-cycle",
   "metadata": {},
   "source": [
    "### Representación gráfica de entidades"
   ]
  },
  {
   "cell_type": "markdown",
   "id": "killing-montana",
   "metadata": {},
   "source": [
    "Una entidad se representa gráficamente mediante una caja de tipo Softbox (Un rectángulo con las esquinas redondeadas), rotulada con el nombre de la clase entidad correspondiente.\n",
    "\n",
    "El nombre de la entidad se escribe en singular y en mayúsculas en el centro de la parte superior de la caja.  \n",
    "\n",
    "El tamaño de la caja no tiene un estándar definido, sin embargo debe ser el suficiente de tal manera que permita la localización de un nombre no ambiguo (en lo posible sin abreviaciones). Esta representación esquemática es individual para cada una de las clases de entidades y debe ser lo suficientemente entendible, de tal manera que permita una interpretación clara de la entidad dentro del conjunto del modelo representado en un diagrama entidad-relación.\n",
    "\n",
    "El nombre para una entidad debe ser una representación  de un tipo o clase de cosa, no de una instancia (ocurrencia) o entidad particular. La siguientes figuras  muestran la forma correcta de representar una entidad y una una forma incorrecta respectivamente."
   ]
  },
  {
   "cell_type": "markdown",
   "id": "tracked-baptist",
   "metadata": {},
   "source": [
    "\n",
    "![SGBD](../Imagenes/entidad_correcta.jpeg)\n",
    "\n",
    "Figura 3. Entidades correctas"
   ]
  },
  {
   "cell_type": "markdown",
   "id": "awful-calvin",
   "metadata": {},
   "source": [
    "![SGBD](../Imagenes/No_es_entidad.jpeg)\n",
    "\n",
    "Figura 4. No son entidades"
   ]
  },
  {
   "cell_type": "markdown",
   "id": "adjacent-rachel",
   "metadata": {},
   "source": [
    "### Características generales de las entidades y de las clases de entidades"
   ]
  },
  {
   "cell_type": "markdown",
   "id": "twelve-incentive",
   "metadata": {},
   "source": [
    "- Cualquier tipo de cosa u objeto puede solamente ser representado por una clase entidad, es decir las clases de entidades son mutuamente exclusivas en todos los casos.\n",
    "- Cada entidad debe ser identificable de manera única, es decir que cada instancia (ocurrencia) de la clase entidad deber ser separada y distinta de todas las otras instancias de la entidad.\n",
    "- Además de la representación en detalle de los requerimientos de información cada para cada clase entidad se requiere disponer de : \n",
    "        ◦ Nombre\n",
    "        ◦ Sinónimos (Otras forma o manera de denominación)\n",
    "        ◦ Volúmenes estimados\n",
    "        ◦ Descripción\n",
    "        ◦ Notas, Comentarios y las Observaciones\n",
    "    • Cada clase entidad tiene asociados\n",
    "        ◦ Atributos (Al menos dos)\n",
    "        ◦ Relaciones (Al menos una)\n",
    "        ◦ identificador único (Al menos uno)\n",
    "        ◦ Funciones del negocio involucradas con la Entidad (Al menos una)"
   ]
  },
  {
   "cell_type": "markdown",
   "id": "suspended-connectivity",
   "metadata": {},
   "source": [
    "###  Taxonomía de las entidades"
   ]
  },
  {
   "cell_type": "markdown",
   "id": "viral-listening",
   "metadata": {},
   "source": [
    "\n",
    "Las clases de entidades más típicas pueden clasificarse en\n",
    "\n",
    "- Sujetos. Personas y organizaciones que originan transacciones registradas en el sistema. Ejemplos:: Cliente, Proveedor, Empleado, Tercero, Estudiante, Dependencia.\n",
    "- Objetos. Entes tangibles, cuentas para los cuales se mantienen saldos afectados por las transacciones. Ejemplos: Artículo, Cuenta Contable.\n",
    "- Eventos. Transacciones (originadas por sujetos y que afectan objetos) generalmente registradas en documentos. Ejemplos: Novedades, Ajustes, Consignaciones.\n",
    "- Lugares. Ubicación de sujetos y objetos. Ejemplos: ciudad, región, edificio.\n",
    "- Abstracciones. Conceptos empleados para clasificar o medir otras entidades. Ejemplos: Tipo de Novedad, Unidad de Medida, Nivel de Cargo.\n",
    "\n",
    "Las abstracciones son un tipo particularmente importante de entidad, ya que dan origen a clasificaciones de las entidades.\n"
   ]
  },
  {
   "cell_type": "markdown",
   "id": "automotive-packet",
   "metadata": {},
   "source": [
    "### Relaciones y conjuntos de relaciones"
   ]
  },
  {
   "cell_type": "markdown",
   "id": "standing-missouri",
   "metadata": {},
   "source": [
    "Una relación binaria es una asociación  entre dos entidades, que representa un vinculo de información entre dos fuentes dentro de la organización. \n",
    "\n",
    "En  la teoría general de bases de datos las relaciones pueden ser n-arias, en el modelo entidad–relación.  \n",
    "\n",
    "En lo que sigue siempre se consideran relaciones binarias. Más tarde veremos la forma de representar relaciones n-arias. \n",
    "\n",
    "Una relación es **binaria** en el sentido de que siempre es una asociación exactamente entre dos instancias de distinto tipo, o entre dos instancias del mismo tipo.\n",
    "\n",
    "Por ejemplo, entre las entidades Medellín (de la entidad Ciudad) y Antioquia (de la entidad Departamento) existe la relación binaria descrita por “Medellín está ubicada en Antioquia”. \n",
    "\n",
    "Nótese que varias entidades de tipo Ciudad están relacionadas con la entidad Antioquia exactamente en el mismo sentido.\n",
    "\n",
    "Esta relación se representa en forma abstracta como se indica a continuación"
   ]
  },
  {
   "cell_type": "markdown",
   "id": "departmental-species",
   "metadata": {},
   "source": [
    "![SGBD](../Imagenes/relacion_binaria.jpeg)\n",
    "\n",
    "Figura 5. Representación de una relación binaria entre instancias de entidades Ciudad- Departamento"
   ]
  },
  {
   "cell_type": "markdown",
   "id": "alternative-southwest",
   "metadata": {},
   "source": [
    "![SGBD](../Imagenes/Relación_recursiva.jpeg)\n",
    "\n",
    "Figura 6. Representación de una relación binaria entre instancias de la entidad Institución\n",
    "\n",
    "¿Pueden imaginar un ejemplo de este tipo de relación?"
   ]
  },
  {
   "cell_type": "markdown",
   "id": "federal-monitoring",
   "metadata": {},
   "source": [
    "### Formalismo matemático"
   ]
  },
  {
   "cell_type": "markdown",
   "id": "guilty-medium",
   "metadata": {},
   "source": [
    "Un conjunto de relaciones es un conjunto de relaciones del mismo tipo.\n",
    "\n",
    "Formalmente un conjunto de relaciones es una relación matemática de  conjuntos de instancias, no necesariamente de diferente tipo. Si $E_1, E_2, ...E_n$, son conjuntos de instancias, entonces un conjunto de relaciones $R$ es un subconjunto del producto cartesiano\n",
    "\n",
    "$$\n",
    "E_1 \\times\\ldots E_n =\\{ (e_1,\\ldots,e_n): e_1\\in E_1,\\ldots, e_n\\in E_n \\}\n",
    "$$"
   ]
  },
  {
   "cell_type": "markdown",
   "id": "critical-johnson",
   "metadata": {},
   "source": [
    "### Representación gráfica de relaciones entre entidades"
   ]
  },
  {
   "cell_type": "markdown",
   "id": "auburn-carrier",
   "metadata": {},
   "source": [
    "\n",
    "Las relaciones entre entidades se representan como líneas que conectan las cajas que representan a las entidades participantes en la asociación. \n",
    "\n",
    "Dentro de la representación se distinguen básicamente dos extremos, en razón del vinculo binario. \n",
    "\n",
    "Cada extremo se conecta a la caja de la entidad correspondiente. La Figura próxima presenta un ejemplo de representación de un relación binaria entre dos entidades de distinta clase.\n",
    "\n",
    "Como se explica un poco mas adelante, el gráfico representa una relación en donde una entidad de clase A se relaciona con a lo mas una entidad de la clase entidad B y a su vez una entidad de la clase B puede estar relacionada con muchas entidades de clase A.\n",
    "\n"
   ]
  },
  {
   "cell_type": "markdown",
   "id": "protecting-scoop",
   "metadata": {},
   "source": [
    "![SGBD](../Imagenes/Grafica_relacion_binaria.jpeg)\n",
    "\n",
    "Figura 7. Representación gráfica de una relación binaria entre entidades de distinto tipo"
   ]
  },
  {
   "cell_type": "markdown",
   "id": "alternate-beast",
   "metadata": {},
   "source": [
    "### Tipos de relaciones. Cardinalidad de asignación en las relaciones"
   ]
  },
  {
   "cell_type": "markdown",
   "id": "separate-qualification",
   "metadata": {},
   "source": [
    "La cardinalidad de asignación en la relaciones expresa el número de entidades con las que puede asociarse (vincularse o relacionarse) otra entidad en un conjunto de entidades. La cardinalidad o grado de asignación puede ser:\n",
    "\n",
    "\n",
    "1. **Una a una**. El tipo de relación es uno a uno (1:1).\n",
    "2.**Una a muchas**. El tipo de relación es uno a muchos (1:N)\n",
    "3. **Muchas a muchas**. El tipo de relación es muchos a muchos (N:M)."
   ]
  },
  {
   "cell_type": "markdown",
   "id": "alert-stationery",
   "metadata": {},
   "source": [
    "#### Relaciones uno a uno (1:1)"
   ]
  },
  {
   "cell_type": "markdown",
   "id": "severe-fluid",
   "metadata": {},
   "source": [
    "Una instancia de la entidad A se relaciona a lo mas con una y sólo una instancia de la clase entidad B y viceversa, es decir, una instancia de la clase entidad B se relaciona a lo mas con una y sólo una instancia de la entidad B. "
   ]
  },
  {
   "cell_type": "markdown",
   "id": "seeing-small",
   "metadata": {},
   "source": [
    "\n",
    "![SGBD](../Imagenes/Relacion_uno_uno.jpeg)\n",
    "\n",
    "Figura 8. Representación gráfica de una relación binaria de tipo 1:1."
   ]
  },
  {
   "cell_type": "markdown",
   "id": "shared-bottom",
   "metadata": {},
   "source": [
    "Esta es una forma de relación poco común, debido a que por lo general se trata de una separación de los atributos de una misma entidad. \n",
    "\n",
    "Un ejemplo típico de una relación de tipo 1 a 1 es considerar la clase entidad Persona y la clase entidad Planta. de una institución oficial. \n",
    "\n",
    "Cada cargo en la planta es ocupado por una y solo una persona. \n",
    "\n",
    "Por facilidad de manipulación de la base datos pueden ser mas conveniente mantener separadas las entidades de tipo Planta de las entidades de tipo Persona. "
   ]
  },
  {
   "cell_type": "markdown",
   "id": "driven-debut",
   "metadata": {},
   "source": [
    "\n",
    "![SGBD](../Imagenes/planta_perosna_1_1.jpeg)\n",
    "\n",
    "Figura 9. Representación gráfica de una relación Planta-Persona"
   ]
  },
  {
   "cell_type": "markdown",
   "id": "commercial-exhibit",
   "metadata": {},
   "source": [
    "#### Relaciones uno a muchos (1:N)"
   ]
  },
  {
   "cell_type": "markdown",
   "id": "perceived-spread",
   "metadata": {},
   "source": [
    "Una instancia en la entidad A se relaciona a los más con una entidad de tipo B. Una instancia en la  entidad B puede estar asociada con un número cualquiera de entidades de tipo A. "
   ]
  },
  {
   "cell_type": "markdown",
   "id": "covered-desert",
   "metadata": {},
   "source": [
    "![SGBD](../Imagenes/Representacion_1_N.jpeg)\n",
    "\n",
    "Figura 10. Representación gráfica de una relación 1:N entre instancias\n"
   ]
  },
  {
   "cell_type": "markdown",
   "id": "primary-cylinder",
   "metadata": {},
   "source": [
    "\n",
    "\n",
    "Algunos autores diferencian relaciones una a muchas de relaciones muchas a una. En este caso la figura corresponde a una relación muchas a una. Teóricamente, no existe diferencia y en este documento se usará únicamente la nomenclatura una a muchas.\n",
    "\n",
    "La Figura  siguiente es la representación abstracta en un modelo entidad-relación de un relación una a muchas entre instancias de la entidad B (extremo uno de la relación) e instancias de la entidad A (extremo muchos de la relación)."
   ]
  },
  {
   "cell_type": "markdown",
   "id": "furnished-extent",
   "metadata": {},
   "source": [
    "\n",
    "![SGBD](../Imagenes/uno_muchos_entidad.jpeg)\n",
    "\n",
    "Figura 11. Representación gráfica de una relación 1:N\n",
    "\n",
    "El siguiente es un ejemplo real de este tipo de relaciones"
   ]
  },
  {
   "cell_type": "markdown",
   "id": "heard-bulletin",
   "metadata": {},
   "source": [
    "\n",
    "\n",
    "![SGBD](../Imagenes/rel_ciudad_depto.jpeg)\n",
    "\n",
    "Figura 12. Ejemplo  de una relación Ciudad-Departamento\n",
    "\n",
    "Los letreros (roles) sugieren la forma de leer las relaciones. Por ejemplo la relación entre la entidad “Medellín” de tipo Ciudad y la entidad “Antioquia” de tipo Departamento, se puede leer como\n",
    "\n",
    "*Medellín está ubicada en Antioquia”, o, “Antioquia es el departamento de Medellín*"
   ]
  },
  {
   "cell_type": "markdown",
   "id": "latest-terrorist",
   "metadata": {},
   "source": [
    "#### Convenio de notación"
   ]
  },
  {
   "cell_type": "markdown",
   "id": "aquatic-israeli",
   "metadata": {},
   "source": [
    "\n",
    "Para estandarizar la construcción del diagrama entidad–relación asociado al modelo entidad–relación se acuerda que en la representación de relaciones siempre se ubiquen las entidades de tal manera que el lado 1 quede colocado debajo o a la derecha y el lado N encima o a la izquierda. \n",
    "\n",
    "Adicionalmente se debe evitar hasta donde sea posible interceptar las líneas de relación. La figura  ilustra este convenio de notación. La figura muestra formas incorrectas de notación de acuerdo a esta convención.\n"
   ]
  },
  {
   "cell_type": "markdown",
   "id": "continued-hebrew",
   "metadata": {},
   "source": [
    "\n",
    "![SGBD](../Imagenes/convenio_notacion.jpeg)\n",
    "\n",
    "Figura 13. Convenio de notación\n",
    "\n"
   ]
  },
  {
   "cell_type": "markdown",
   "id": "spread-gambling",
   "metadata": {},
   "source": [
    "#### Relaciones muchos a muchos (M:N)"
   ]
  },
  {
   "cell_type": "markdown",
   "id": "alien-friday",
   "metadata": {},
   "source": [
    "Una instancia en A está asociada con un número cualquiera de instancias en B, y una instancia en B está asociada con un número cualquiera de instancias en A. "
   ]
  },
  {
   "cell_type": "markdown",
   "id": "ultimate-titanium",
   "metadata": {},
   "source": [
    "![SGBD](../Imagenes/instancias_n_m.jpeg)\n",
    "\n",
    "\n",
    "\n",
    "Figura 14. Relación muchos a muchos entre instancias"
   ]
  },
  {
   "cell_type": "markdown",
   "id": "atomic-honolulu",
   "metadata": {},
   "source": [
    "Puesto que los dos extremos de la relación tienen grado muchos, en ambos extremos se coloca la \"pata de ave\".  \n",
    "\n",
    "Esta es una forma común de relación, aunque menos frecuente que la relación 1:N \n",
    "\n",
    "Las Figuras muestra como representar gráficamente una relación muchos a muchos en un diagrama entidad – relación"
   ]
  },
  {
   "cell_type": "markdown",
   "id": "romantic-experience",
   "metadata": {},
   "source": [
    "![SGBD](../Imagenes/muchos_muchos.jpeg)\n",
    "\n",
    "\n",
    "\n",
    "Figura 15. Representación de una relación muchos a muchos"
   ]
  },
  {
   "cell_type": "markdown",
   "id": "athletic-alpha",
   "metadata": {},
   "source": [
    "Un ejemplo típico de una relación muchos a muchos es la relación entre entidades de tipo Libro y entidades de tipo Autor. La figura  ilustra gráficamente la relación. \n",
    "\n",
    "Esta relación se interpreta de forma abstracta de la siguiente manera:\n",
    "\n",
    "- Un libro es escrito por uno o mas autores\n",
    "- Un autor es el autor de uno o más libros.\n"
   ]
  },
  {
   "cell_type": "markdown",
   "id": "affiliated-blackberry",
   "metadata": {},
   "source": [
    "![SGBD](../Imagenes/autor_libro.jpeg)\n",
    "\n",
    "\n",
    "\n",
    "Figura 16. Ejemplo relación Autor-Libro"
   ]
  },
  {
   "cell_type": "markdown",
   "id": "weighted-future",
   "metadata": {},
   "source": [
    "### Participación de las entidades en las relaciones"
   ]
  },
  {
   "cell_type": "markdown",
   "id": "radical-bottom",
   "metadata": {},
   "source": [
    "La participación de las entidades en una relación determina cuado una entidad de un tipo esta obligada a estar relacionarse con entidades del otro tipo"
   ]
  },
  {
   "cell_type": "markdown",
   "id": "random-museum",
   "metadata": {},
   "source": [
    "####  Relación obligatoria"
   ]
  },
  {
   "cell_type": "markdown",
   "id": "colonial-transcript",
   "metadata": {},
   "source": [
    "Se dice que una relación entre entidades de tipo A y entidades de tipo B es obligatoria  por el extremo (por el lado) de las entidades de tipo A, si toda instancia de la clase entidad  A debe estar relacionada con al menos una instancia de la clase entidad B. La obligatoriedad se representa mediante una línea continua en el extremo A de la relación."
   ]
  },
  {
   "cell_type": "markdown",
   "id": "catholic-stanley",
   "metadata": {},
   "source": [
    "#### Relación Opcional"
   ]
  },
  {
   "cell_type": "markdown",
   "id": "attempted-genealogy",
   "metadata": {},
   "source": [
    "Se dice que una relación entre entidades de tipo A y entidades de tipo B es obligatoria  por el extremo (por el lado) de las entidades de tipo A, si toda instancia de la clase entidad  A puede estar relacionada con instancias de la clase entidad B. La opcionalidad se representa mediante una línea punteada en el extremo A de la relación. \n",
    "\n",
    "\n",
    "En el ejemplo de la figura  16, la relación es obligatoria por el lado Autor, porque se asume que las entidades corresponden realmente a autores de libros. Por el lado libro la relación es opcional porque en la base de datos eventualmente puede haber libros de autores anónimos. "
   ]
  },
  {
   "cell_type": "markdown",
   "id": "precious-burton",
   "metadata": {},
   "source": [
    "####  Roles de las entidades en las relaciones"
   ]
  },
  {
   "cell_type": "markdown",
   "id": "roman-ireland",
   "metadata": {},
   "source": [
    "El rol de la entidades en una relación corresponde a la forma como participan en la relación. Por ejemplo en la relación entre una entidad de tipo Ciudad y una de tipo Departamento, el rol de la ciudad es “esta ubicada en”, y el rol de un departamento se enuncia como “es el departamento de”.\n",
    "Como se ha visto en los ejemplos anteriores el rol de las relaciones se escribe como una etiqueta. "
   ]
  },
  {
   "cell_type": "markdown",
   "id": "independent-miller",
   "metadata": {},
   "source": [
    "#### Convenio de notación"
   ]
  },
  {
   "cell_type": "markdown",
   "id": "distinct-iraqi",
   "metadata": {},
   "source": [
    "Por convención para el diagrama se escribirá el rol de las entidades del extremo izquierdo encima de la línea de relación y el rol de las entidades del extremo derecho se escribirá por debajo de la línea. \n",
    "\n",
    "\n",
    "La etiqueta se escribe en minúscula y como la obligatoriedad ya esta descrita por el tipo de línea (continua o punteada) en cada extremo, se tiene en cuenta en para la lectura de la relación.\n",
    "\n",
    "La etiqueta de la relación debe ser preferencialmente una expresión conjugada con los verbos ser o estar, teniendo en cuenta que si la relación es obligatoria en la lectura de la relación se usa la expresión  debe. [ser|estar] y para relaciones opcionales la expresión puede [ser|estar]."
   ]
  },
  {
   "cell_type": "markdown",
   "id": "marine-savings",
   "metadata": {},
   "source": [
    "Por ejemplo, los roles de las entidades en las relaciones representadas en los diagramas de ejemplos de las figuras   12 y 16, se leen rigurosamente así:\n",
    "\n",
    "\n",
    "+ Para las relaciones entre entidades de tipo Ciudad y entidades de tipo Departamento (Figura  12):\n",
    "    - Una ciudad  debe estar ubicado en un departamento\n",
    "    - Un departamento puede ser el departamento de varias ciudades\n",
    "\n",
    "\n",
    "+ Para relaciones entre entidades de tipo Libro y entidades de tipo Autor (Figura   16):\n",
    "     - Un autor debe ser autor de varios libros\n",
    "     - Un libro puede ser escrito por varios autores"
   ]
  },
  {
   "cell_type": "markdown",
   "id": "interior-crystal",
   "metadata": {},
   "source": [
    "##   <span style=\"color:blue\">Atributos </span>"
   ]
  },
  {
   "cell_type": "markdown",
   "id": "motivated-beatles",
   "metadata": {},
   "source": [
    "\n",
    "Como se mencionó arriba, las entidades contienen atributos, Los atributos son las propiedades que posee una entidad. \n",
    "\n",
    "Usualmente los atributos son definidos para la entidad correspondiente en forma abstracta. \n",
    "\n",
    "En las instancias, los atributos corresponden a valores concretos. Por ejemplo *(17, Addison Wesley , Madison)* son los atributos que  representan una instancia de una entidad de tipo Editorial, y los atributos de la entidad Editorial son {IdEdi, NomEdi, Ciudad}. \n",
    "\n",
    "\n",
    "Los atributos de una entidad se utilizan  para tres propósitos principalmente:\n",
    "\n",
    "\n",
    "+ Para identificar de manera única las entidades individuales en una clase entidad (Atributos de identificación). Por ejemplo en la clase entidad Editorial, el atributo {IdEdi} identifica de manera única a cada editorial. El lector puede intuir que para este caso, el atributo NomEdi, que es el nombre del editorial puede servir también como identificador único. No ocurre lo mismo con la clase entidad libro. El nombre de un libro no sirve de identificador único para la clase entidad Libro, así como el nombre de una persona no sirve de identificador único para una entidad de tipo Persona. \n",
    "\n",
    "+ Para incluir información que se requiere en la base de datos (Atributos informativos). Por ejemplo \n",
    "     - IdInst\n",
    "     - Nombre\n",
    "     - Sigla\n",
    "     - IdCiu\n",
    "     \n",
    "  son atributos de información de la  entidad Intitución en la tabla 2 arriba. \n",
    "  \n",
    "+ Para describir relaciones entre entidades entre entidades (Atributos de relación). Por ejemplo en la tabla 2 {IdCiu} es un atributo de relación de la entidad Institucion  con la entidad Ciudad. Este atributo permite establecer la relación entre instancias de tipo Institucion e instancias de tipo Ciudad.  "
   ]
  },
  {
   "cell_type": "markdown",
   "id": "incorporated-institute",
   "metadata": {},
   "source": [
    "### Llaves, Super llaves y llave primaria"
   ]
  },
  {
   "cell_type": "markdown",
   "id": "single-drinking",
   "metadata": {},
   "source": [
    " **Super llaves**. Una super llave  es un conjunto de uno o más atributos que se toman colectivamente para identificar  de forma única  a cada una de las instancias de una entidad.\n",
    "\n",
    "Por ejemplo, considere la entidad Libro con atributos {IdLibro, NombreLibro, Autor}. En esta entidad podemos tener las siguientes super llaves\n",
    "\n",
    " - {IdLibro}\n",
    " - {IdLibro, NombreLibro}\n",
    " - {IdLibro, NombreLibro, Autor}\n",
    " - {IdLibro,  Autor}\n",
    " - {NombreLibro, Autor}\n",
    " \n",
    " \n",
    "\n",
    "**Llaves candidatas.** Las llaves candidatas son  super llaves que no tienen atributos redundantes. En otras palabras, las llaves candidatas son super llaves mínimas. Por ejemplo, en la entidad Libro, se tiene las siguientes llaves candidatas\n",
    "\n",
    " - {IdLibro}\n",
    " - {NombreLibro, Autor}\n",
    " \n",
    " \n",
    "Estas dos super llaves pueden ser claves candidatas, ya que las  restantes super llaves tienen atributos redundantes. \n",
    "\n",
    "Por ejemplo las instancias de la entidad libro pueden ser identficadas de manera única con las super llaves {IdLibro} y {IdLibro, NombreLibro}. Por lo tanto, {NombreLibro} es un atributo redundante y solamente {IdLibro} es una llave candidata.\n",
    "\n",
    "\n",
    "**Clave primaria** (primary key). es una llave candidata que elige el diseñador de la base de datos para identificar entidades en un conjunto de entidades. \n",
    "\n",
    "De las llaves candidatas en los ejemplos anteriore, cualquiera puede ser la llave primaria.  Las otras llaves candidatas que no se elija como clave principal se conocerá como claves alternativas.\n",
    "\n",
    "**Llave.** En general, cualquier tipo de super llave, se llamará genéricamente como llave. En adelante solamente haremos la distinción de la llave primaria."
   ]
  },
  {
   "cell_type": "markdown",
   "id": "floating-morning",
   "metadata": {},
   "source": [
    "#### Un nota sobre el DANE"
   ]
  },
  {
   "cell_type": "markdown",
   "id": "allied-builder",
   "metadata": {},
   "source": [
    "Para cerrar un ejemplo adicional. Las intituciones de estadísticas oficiales suelen establecer establecer codificaciones para las instancias, de tal manera que el intercambio de información entre instituciones nacional e internacional se facilite.\n",
    "\n",
    "En el caso del DANE en Colombia por ejemplo, los departamentos (estados), los municipios tienen asignado un código y toda la codificación recibe el nombre de Divipola (de división política).\n",
    "\n",
    "Divipola es entonces un atributo que es llave candidata en una base de datos que use le entidad Municipio (que en este caso incluye Ciudad). \n",
    "\n",
    "Un buen diseño, sin embargo no debe incluir divipola como llave primaria de una tabla Municipio. Este debe ser una llave alterna, que será utilizada para intercambio de información. \n",
    "\n",
    "La razón para esta decisión es que este tipo de llaves asociados a códigos generados por alguna institución, pueden limitar el diseño de una base de datos. Piense por ejemplo que, luego de algún tiempo, se hace necesario tener munipios de otros países. En ese caso, divipola deja de ser llave primaria.\n",
    "\n",
    "Las llaves primarias, por lo general son definidas como valores autonuméricos generados por el motor de la base de datos, que sirven para identificar de manera única a las instancias, pero que no tienen un significado o una interpretación más allá de ser identificadores de instancias."
   ]
  },
  {
   "cell_type": "markdown",
   "id": "boolean-portfolio",
   "metadata": {},
   "source": [
    "###  Dominio de un atributo"
   ]
  },
  {
   "cell_type": "markdown",
   "id": "organized-avenue",
   "metadata": {},
   "source": [
    "El dominio de un atributo es el conjunto de posibles valores que puede tomar un atributo. Puede decirse que un atributo es una función que asigna un conjunto de instancias a un dominio.\n",
    "\n",
    "\n",
    "En matemáticas, se define una relación como un subconjunto de un producto cartesiano de conjuntos de dominios. Esto corresponde casi exactamente al concepto de conjunto de instancias. \n",
    "\n",
    "Realmente, la única diferencia es que en la teoría de bases de datos, se asignan nombres a los atributos, mientras que los matemáticos usan subíndices para denotar n-plas.  \n",
    "\n",
    "Así cada instancia de una  entidad puede ser denotada como una n-pla.  Por ejemplo (17, Addison Wesley , Madison) es la notación de una instancia de una entidad Editorial. \n",
    "\n",
    "\n",
    "Si $A_1, A_2, \\cdots, A_n$ son atributos con dominios $D_1, D_2, \\cdots, D_n$  respectivamente, entonces una entidad  $E$ con atributos  $A_1, A_2, \\cdots, A_n$ es el conjunto definido por el producto cartesiano definido por\n",
    "\n",
    "$$\n",
    "E = D_1\\times D_2\\times \\cdots\\times D_n\n",
    "$$\n",
    "\n",
    "\n",
    "Cualquier subconjunto de E es un conjunto de instancias de tipo E.\n",
    "\n",
    "La  entidad $E$ se suele notar por $E(A_1, A_2, \\cdots, A_n)$, y una instancia de tipo $E$ mediante $(a_1, a_2, \\cdots, a_n)$, en donde \n",
    "$a_i \\in A_i$."
   ]
  },
  {
   "cell_type": "markdown",
   "id": "functional-enzyme",
   "metadata": {},
   "source": [
    "###  Atributos Atómicos"
   ]
  },
  {
   "cell_type": "markdown",
   "id": "israeli-september",
   "metadata": {},
   "source": [
    "Un atributo es atómico si los elementos de su dominio se consideran indivisibles. \n",
    "\n",
    "Todos los ejemplos de atributos dados hasta ahora son atómicos. Consideremos un ejemplo de un atributo que no es atómico. \n",
    "\n",
    "Supóngase que en lugar de usar la relación de muchos a muchos entre entidades de tipo Libro y entidades de tipo Autor, se decide usar un único atributo en la entidad Libro, con el objeto de describir en tal atributo a los autores de un libro. La entidad tendría atributos {IdLibro, NombreLibro, Autores}. En la notación formal se tendría \n",
    "\n",
    "+ Libro(IdLibro, NombreLibro, Autores) \n",
    "\n",
    "Una instancia es tal caso sería por ejemplo\n",
    "\n",
    "- (1324, El libro del saber, (Luis Manrrique, Diógenes Vargas))\n",
    "\n",
    "\n",
    "El atributo Autores no es atómico, porque evidentemente, puede subdividirse, para los casos de libros de más de un autor. \n",
    "\n",
    "Como encontraremos más adelante,  un buen diseño de una base de datos solo admite atributos con dominios atómicos. "
   ]
  },
  {
   "cell_type": "markdown",
   "id": "confident-spyware",
   "metadata": {},
   "source": [
    "#### Nota sobre el nombre de las personas"
   ]
  },
  {
   "cell_type": "markdown",
   "id": "residential-vegetable",
   "metadata": {},
   "source": [
    "Quizás ha observado que por lo general en los sistemas de información, el nombre de las personas se separa en Primer Apellido, Segundo Apellido y Nombres. \n",
    "\n",
    "Esta práctica tiene razones puramente técnicas de manejo de los datos, pero no quiere decir que el nombre completo de una persona sea un atributo divisible o no atómico."
   ]
  },
  {
   "cell_type": "markdown",
   "id": "prostate-endorsement",
   "metadata": {},
   "source": [
    "### Tipos básicos de dominios de los atributos"
   ]
  },
  {
   "cell_type": "markdown",
   "id": "mighty-guitar",
   "metadata": {},
   "source": [
    "Los tipos de dominios usados fecuentemente en las bases de datos se clasifican en:\n",
    "\n",
    "\n",
    "+ Dominios numéricos: enteros, reales\n",
    "+ Dominios de tipo cadena. Cadenas de caracteres.\n",
    "+ Dominios lógicos (Solo admiten verdadero o falso)\n",
    "+ Dominios de tipo moneda\n",
    "+ Dominios de fechas\n",
    "+ Dominios de tipo objeto.\n",
    "+ Dominios de tipo hipervínculo."
   ]
  },
  {
   "cell_type": "markdown",
   "id": "forward-editor",
   "metadata": {},
   "source": [
    "#### Ejercicio"
   ]
  },
  {
   "cell_type": "markdown",
   "id": "twenty-terrain",
   "metadata": {},
   "source": [
    "*Determine en MySQL, MariaDB, PostgreSQL, los tipos de datos dsiponibles.*\n"
   ]
  },
  {
   "cell_type": "markdown",
   "id": "collect-tsunami",
   "metadata": {},
   "source": [
    "Los motores de base de datos incluyen funciones para manipular datos para los distintos tipos de dominio. \n",
    "\n",
    "Los tipos de datos menos antiguos son el tipo objeto y el tipo hipervínculo. El tipo objeto permite hacer referencias a objetos construidos externamente a la base de datos como archivos de gráficos, hojas electrónicas, procesadores de palabra y otros. \n",
    "\n",
    "El tipo hipervínculo se usa actualmente para hacer vínculos a objetos sobre Internet, como direcciones electrónica o direcciones URL."
   ]
  },
  {
   "cell_type": "markdown",
   "id": "chemical-firmware",
   "metadata": {},
   "source": [
    "###  Restricciones de dominio de los atributos."
   ]
  },
  {
   "cell_type": "markdown",
   "id": "divine-pathology",
   "metadata": {},
   "source": [
    "Un atributo definido sobre un dominio puede requerir restricciones sobre los valores que puede tomar. Una restricción de este tipo se denomina una restricción de domino. \n",
    "\n",
    "**Por ejemplo**, el atributo Nota en una entidad de tipo Materia en un sistema de información de estudiantes es numérica, en general, pero está restringida a ser mayor o igual a cero. Entonces el dominio del atributo es real, con la restricción de dominio ser mayor o igual a cero.\n",
    "\n",
    "**Otro ejemplo** muy usual lo constituye un dominio descrito por extensión o enumeración. El ejemplo más clásico es el atributo Género en entidades de tipo Persona. Por general este atributo es de tipo cadena (de un carácter)  y sus posibles valores son: “M” de masculino y “F” de femenino. En este caso, se debe tener una lista corta de posibles valores, de lo contrario es mejor usar una restricción de dominio. Modernamente, es posible tener valores adicionales para este tipo de atributo."
   ]
  },
  {
   "cell_type": "markdown",
   "id": "white-notification",
   "metadata": {},
   "source": [
    "###  Representación de atributos en el diagrama  entidad – relación"
   ]
  },
  {
   "cell_type": "markdown",
   "id": "modern-occasions",
   "metadata": {},
   "source": [
    "Para representar un atributo en el diagrama  se escribe el nombre  en singular y letra minúscula dentro de la caja que representa la entidad. Al que corresponde y se usa el siguiente convenio de notación"
   ]
  },
  {
   "cell_type": "markdown",
   "id": "beginning-trash",
   "metadata": {},
   "source": [
    "#### Convenio de notación"
   ]
  },
  {
   "cell_type": "markdown",
   "id": "auburn-conversion",
   "metadata": {},
   "source": [
    "+ Los nombres  (identificadores) deben ser representativos y característicos de la Entidad a la cual pertenecen:\n",
    "+ No se debe usar el nombre de la  entidad como parte del nombre del atributo\n",
    "+ A los atributos opcionales se les antepone el símbolo o (de opcional). Los atributos opcionales  son aquellos que no son estrictamente requeridos en el momento de ingresar la información a la base de datos. Un atributo puede ser opcional porque puede ocurrir que no se disponga de la información en el momento de ingresar los datos a la base de datos o por que sencillamente algunas entidades no poseen tal atributo. \n",
    "+ A los atributos obligatorios se les antepone el símbolo * (asterisco). Al contrario de un atributo opcional, un atributo obligatorio debe ser ingresado en el momento de crear una entidad en la base de datos.\n",
    "+ A los atributos que forma la llave primaria se les antepone el símbolo # y se sobreentiende que no son opcionales.\n",
    "+ Los atributos de relación no se colocan en el diagrama, debido a que su presencia esta determinada por las líneas de relación. Estos atributos también reciben el nombre de **llave foránea**, debido a que siempre contienen la llave de la entidad con al que se establece la relación. Además por convención en el momento de la implementación se usa el mismo identificador que tiene en la  entidad  relacionada.\n",
    "+ Cuando el dominio de un atributo es por enumeración, se listan los valores uno debajo de otro, encerrando entre paréntesis cuadrados los respectivos valores."
   ]
  },
  {
   "cell_type": "markdown",
   "id": "pacific-rebound",
   "metadata": {},
   "source": [
    "En la figura 17 se ilustra el diagrama completo de las entidades de tipo Ciudad y de tipo Departamento, y la relación correspondiente. De la base de datos BaseEjemplo."
   ]
  },
  {
   "cell_type": "markdown",
   "id": "sunrise-gentleman",
   "metadata": {},
   "source": [
    "![SGBD](../Imagenes/atributos_e_r.jpeg)\n",
    "\n",
    "\n",
    "\n",
    "Figura 17. Ejemplo de notación de atributos en un diagrama entidad-relación"
   ]
  },
  {
   "cell_type": "markdown",
   "id": "chronic-foundation",
   "metadata": {},
   "source": [
    "La Figura   18  presenta un ejemplo de representación de una entidad de tipo persona que incluye el atributo de enumeración Genero."
   ]
  },
  {
   "cell_type": "markdown",
   "id": "happy-enzyme",
   "metadata": {},
   "source": [
    "\n",
    "![SGBD](../Imagenes/enum_atrib.jpeg)\n",
    "\n",
    "\n",
    "\n",
    "Figura 18. Ejemplo de notación de atributos enumerados en un diagrama entidad-relación"
   ]
  },
  {
   "cell_type": "markdown",
   "id": "voluntary-browser",
   "metadata": {},
   "source": [
    "###  Definiciones y convenciones avanzadas"
   ]
  },
  {
   "cell_type": "markdown",
   "id": "uniform-optimum",
   "metadata": {},
   "source": [
    "####  Relaciones recursivas"
   ]
  },
  {
   "cell_type": "markdown",
   "id": "consecutive-michael",
   "metadata": {},
   "source": [
    "Cuando una entidad se relaciona con otra entidad del mismo tipo. Recibe el nombre de relación  Recursiva.  En el diagrama entidad relación se denota como en la . El símbolo de la relación se conoce como oreja de cerdo."
   ]
  },
  {
   "cell_type": "markdown",
   "id": "distant-forge",
   "metadata": {},
   "source": [
    "![SGBD](../Imagenes/recursiva_e_r.jpeg)\n",
    "\n",
    "\n",
    "\n",
    "Figura 18. Ejemplo de una relación recursiva en un diagrama entidad-relación"
   ]
  },
  {
   "cell_type": "markdown",
   "id": "boolean-wagner",
   "metadata": {},
   "source": [
    "### Dependencia. Clases de entidades fuertes y clases de entidades débiles"
   ]
  },
  {
   "cell_type": "markdown",
   "id": "pursuant-native",
   "metadata": {},
   "source": [
    "Una **entidad es fuerte** si tiene llave primaria. Es posible tener clases de entidades que no tiene llave primaria, estas se denominan **entidades débiles**. \n",
    "\n",
    "En estos casos, la existencia de una entidad débil depende de la existencia de una entidad fuerte. Un ejemplo típico son las entidades de tipo Transacción de cuentas bancarias. En este caso una entidad de tipo Transacción no puede existir si no existe una entidad de tipo Cuenta.\n",
    "\n",
    "En una relación de grado uno a muchos (1:N), si toda instancia de la clase entidad de lado N sólo puede existir y ser nombrada en función de una instancia de la clase entidad de lado 1 la clase entidad de lado N es débil respecto a la clase entidad de lado 1 y se dice que la relación entre dos entidades es de dependencia\n",
    "\n",
    "Las Relaciones de dependencia se representan en el diagrama entidad relación mediante una línea perpendicular a la pata de ave. \n",
    "\n",
    "La Figura 19 ilustra la notación de relaciones de dependencia. Para la implementación práctica la clase entidad débil debe contener un atributo discriminador, y se arma una llave para esta entidad con la llave primaria de la entidad fuerte y el discriminador. \n",
    "\n",
    "En el ejemplo de las transacciones de una cuenta, la llave para una entidad de tipo transacción se forma agregando un atributo discriminador (NumeroTrans) al identificador de la cuenta relacionada.(Figura 19)."
   ]
  },
  {
   "cell_type": "markdown",
   "id": "thick-spare",
   "metadata": {},
   "source": [
    "![SGBD](../Imagenes/dependencia_e_r.jpeg)\n",
    "\n",
    "\n",
    "\n",
    "Figura 19. Ejemplo de una relación de dependencia un diagrama entidad-relación"
   ]
  },
  {
   "cell_type": "markdown",
   "id": "exciting-apollo",
   "metadata": {},
   "source": [
    "### Resolución de relaciones muchos a muchos"
   ]
  },
  {
   "cell_type": "markdown",
   "id": "detected-seller",
   "metadata": {},
   "source": [
    "Una relación de muchos a muchos se puede implementar mediante la introducción de dos relaciones de dependencia.\n",
    "\n",
    "Supongamos por ejemplo que se tiene una relación de cardinalidad muchos a muchos entre dos entidades digamos A y B. Entonces se intruduce una tercera entidad digamos C, que depende de A y B y que en general no tiene atributos propios. La siguientes figuras ilustran la situación."
   ]
  },
  {
   "cell_type": "markdown",
   "id": "hundred-alignment",
   "metadata": {},
   "source": [
    "\n",
    "![SGBD](../Imagenes/resol_n_n.jpeg)\n",
    "\n",
    "\n",
    "Figura 20. Resolucion de relaciones muchos a muchos un diagrama entidad-relación"
   ]
  },
  {
   "cell_type": "markdown",
   "id": "phantom-departure",
   "metadata": {},
   "source": [
    "\n",
    "![SGBD](../Imagenes/resol_muchos_muchos_2.jpeg)\n",
    "\n",
    "\n",
    "Figura 21. Resolucion de relaciones muchos a muchos opcional en ambos lados en un diagrama entidad-relación"
   ]
  },
  {
   "cell_type": "markdown",
   "id": "african-antarctica",
   "metadata": {},
   "source": [
    "### Relaciones Múltiples entre entidades"
   ]
  },
  {
   "cell_type": "markdown",
   "id": "comic-viewer",
   "metadata": {},
   "source": [
    "Existen situaciones en las cuales es posible que exista más de una relación definida sobre la misma pareja de clases de entidades. En este caso, cada relación tiene un significado diferente e independiente de las demás. \n",
    "\n",
    "Un ejemplo son las relaciones entre entidades de tipo Persona y entidades de tipo Ciudad (ver Figura 22). En este caso es necesario señalar cada una de las relaciones en diagrama entidad relación. El rol de cada extremo de cada relación permite la lectura cada relación."
   ]
  },
  {
   "cell_type": "markdown",
   "id": "statewide-queen",
   "metadata": {},
   "source": [
    "\n",
    "![SGBD](../Imagenes/multiple_relacion.jpeg)\n",
    "\n",
    "\n",
    "Figura 22. Ejemplo de múltiples relaciones entre dos entidades en un diagrama entidad-relación"
   ]
  },
  {
   "cell_type": "markdown",
   "id": "young-healing",
   "metadata": {},
   "source": [
    "##   <span style=\"color:blue\">Implementación de bases de datos relacionales </span>"
   ]
  },
  {
   "cell_type": "markdown",
   "id": "delayed-valentine",
   "metadata": {},
   "source": [
    "Un modelo entidad – relación (E/R) de una base de datos es un modelo abstracto, visualizado en un diagrama E/R. \n",
    "\n",
    "En esta sección se traslada el modelo abstracto en un modelo concreto. En otras palabras se va a mostrar como implementar el modelo E/R. Esto requiere la implementación de los siguiente objetos:\n",
    "\n",
    "\n",
    "+ Las entidades\n",
    "+ Las clases de entidades\n",
    "+ Los conjuntos de entidades\n",
    "+ Las relaciones entre clases de entidades\n",
    "\n",
    "El resultado de esta implementación es una base de datos relacional."
   ]
  },
  {
   "cell_type": "markdown",
   "id": "published-poetry",
   "metadata": {},
   "source": [
    "### Implementación de una entidad. Tablas"
   ]
  },
  {
   "cell_type": "markdown",
   "id": "patient-constraint",
   "metadata": {},
   "source": [
    "\n",
    "La implementación de una entidad es el esquema de **una tabla**. El esquema de una tabla es un archivo físico de la base de datos que contiene las definiciones asociadas a los objetos de una tabla. Una entidad puede ser identificada mediante el conjunto de sus atributos.\n",
    "\n",
    "Por ejemplo {IdInst, NomInst, SiglaInst, AmbitoInst, CaracterInst, TamañoInst, DirInst, TeInstl, FaxInst, EmaiInstl ,wwwInst } identifica una  entidad Institucion en una base de datos.\n",
    "\n",
    "\n",
    "Los atributos de una  entidad corresponden a los **nombres de las columnas** de una tabla, y usualmente reciben el nombre de **campos** de la tabla. \n",
    "\n",
    "Como se mencionó arriba, se usará la notación \n",
    "\n",
    "- Institucion(IdInst,Nombre, Sigla, IdCiu) \n",
    "\n",
    "para representar una entidad Institucion. Revise la tabla 2 arriba.\n",
    "\n",
    "Esta notación hace explícitos el nombre de la clase entidad y el nombre de los atributos.\n",
    "\n",
    "Los conceptos de llave y superllave de una clase entidad aplican de la misma forma en el esquema de una tabla. Así si un conjunto de campos (atributos) forma una llave para el esquema de una tabla, entonces esos atributos forman una llave para la clase entidad implementada por el esquema de la tabla."
   ]
  },
  {
   "cell_type": "markdown",
   "id": "exact-device",
   "metadata": {},
   "source": [
    "### Registros de una tablas"
   ]
  },
  {
   "cell_type": "markdown",
   "id": "amazing-turtle",
   "metadata": {},
   "source": [
    "Las instancias de una entidad se denominan **registros**. Los registros en una tabla se mustran generalmente como filas de la tabla. Revise por ejemplos las tablas 2,3,4 arriba.\n",
    "\n",
    "Por ejemplo los dos priemros registros de la tabla Institución son\n",
    "\n",
    "|IdInst|Nombre|Sigla|IdCiu|\n",
    "|---|---|---|---|\n",
    "|2202|Instituto Colombiano de la Reforma Agraria|INCORA|2019|\n",
    "|2204|Instituto Colombiano de Medicina Tropical Antonio Roldan Betancur|ICMT|1324|\n",
    "\n",
    "Tabla 7. Algunos registros de la tabla Institución."
   ]
  },
  {
   "cell_type": "markdown",
   "id": "functional-sector",
   "metadata": {},
   "source": [
    "### Atributos o campos de una tabla"
   ]
  },
  {
   "cell_type": "markdown",
   "id": "historic-mortgage",
   "metadata": {},
   "source": [
    "Los atributos de una tabla usualmente se denominan campos (tambińe su sua el termino atributo). En el  ejemplo anterior, los campos de la tabla son  {idInst, Nombre, Sigla, IdCiu}.\n",
    "\n"
   ]
  },
  {
   "cell_type": "markdown",
   "id": "liked-cemetery",
   "metadata": {},
   "source": [
    "### Implementación de relaciones - llaves foráneas"
   ]
  },
  {
   "cell_type": "markdown",
   "id": "imposed-beauty",
   "metadata": {},
   "source": [
    "#### Relaciones uno a muchos"
   ]
  },
  {
   "cell_type": "markdown",
   "id": "convenient-median",
   "metadata": {},
   "source": [
    "La implementación de una relación entre tablas se realiza de manera sencilla, incluyendo un campo en tabla del lado muchos que será del mismo tipo de la llave primaria del lado uno. La relación entre los registros se establece colocando en la tabla del lado muchos el valor del identificador usado como llave primaria en la tabla del lado muchos. En la tabla del lado 1, este campo se declara como **llave forránea**. En ejemplo de la tabla 7, el campo {IdCiu} establece la relación entre la tabla Institución y la tabla Ciudad. Entonces, {IdCiu} es la llave primaria de la tabla Ciudad y es llave foránea en la tabla Institución.\n",
    "\n",
    "La siguiente gráfica ilustra una relación uno a muchos entre dos tablas."
   ]
  },
  {
   "cell_type": "markdown",
   "id": "olive-milton",
   "metadata": {},
   "source": [
    "\n",
    "![SGBD](../Imagenes/Relacion_entre_tablas.jpeg)\n",
    "\n",
    "\n",
    "Figura 23. Relación uno a muchos entre dos tablas S y T."
   ]
  },
  {
   "cell_type": "markdown",
   "id": "final-theology",
   "metadata": {},
   "source": [
    "### Relaciones uno a uno"
   ]
  },
  {
   "cell_type": "markdown",
   "id": "optimum-tuesday",
   "metadata": {},
   "source": [
    "Una relación uno a uno entre dos esquemas de tablas se establece de la misma forma que una relación uno a muchos, agregando la restricción de que la llave foránea no tenga elementos repetidos en la tabla referenciante. Esto se consigue, construyendo un índice único para este atributo. La construcción de índices se explica más adelante."
   ]
  },
  {
   "cell_type": "markdown",
   "id": "voluntary-raise",
   "metadata": {},
   "source": [
    "### Relaciones muchos a muchos"
   ]
  },
  {
   "cell_type": "markdown",
   "id": "worthy-enhancement",
   "metadata": {},
   "source": [
    "\n",
    "La implementación de una relación muchos a muchos entre dos tablas, implica la creación de una nueva tabla en la base de datos. \n",
    "\n",
    "Supóngase que  S(A1 ,A2 ,..., An)  y  T(B1 ,B2 ,..., Bm)  son dos tablas con llaves primarias {A1} y {B1} respectivamente  y que existe una relación muchos a muchos entre estos. \n",
    "\n",
    "La forma  de implementar la relación es construir una nueva tabla R con atributos { A1 ,B1}. Es decir, la relación muchos a muchos es implementada mediante el esquema de tabla R(A1 ,B1). .\n",
    "\n",
    "En ejemplo de las tablas Libro Autor, supongamos que se tienen los siguientes campos:\n",
    "\n",
    "- Libro(IdLibro, NombreLibro)\n",
    "- Autor(IdAutor, NombreAutor)\n",
    "\n",
    "Entonces la relación se implementa en una tabla que llamaremos relLibroAutor así:\n",
    "\n",
    "- relLibroAutor(IdLibro,IdAutor)\n",
    "\n",
    "Esta tabla no tiene atributos propios. Solamente dos llaves foráneas que se declaran obligatorias.\n",
    "\n"
   ]
  }
 ],
 "metadata": {
  "kernelspec": {
   "display_name": "Python 3",
   "language": "python",
   "name": "python3"
  },
  "language_info": {
   "codemirror_mode": {
    "name": "ipython",
    "version": 3
   },
   "file_extension": ".py",
   "mimetype": "text/x-python",
   "name": "python",
   "nbconvert_exporter": "python",
   "pygments_lexer": "ipython3",
   "version": "3.8.8"
  }
 },
 "nbformat": 4,
 "nbformat_minor": 5
}
