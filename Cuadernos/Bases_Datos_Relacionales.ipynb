{
 "cells": [
  {
   "cell_type": "markdown",
   "id": "bored-batman",
   "metadata": {
    "tags": []
   },
   "source": [
    "# <span style=\"color:green\"><center>Diplomado en Big Data</center></span>"
   ]
  },
  {
   "cell_type": "markdown",
   "id": "dependent-blond",
   "metadata": {},
   "source": [
    "# <span style=\"color:red\"><center>Introducción a bases de datos relacionales<center></span>"
   ]
  },
  {
   "cell_type": "markdown",
   "id": "curious-british",
   "metadata": {},
   "source": [
    "##   <span style=\"color:blue\">Profesores</span>"
   ]
  },
  {
   "cell_type": "markdown",
   "id": "superb-gregory",
   "metadata": {},
   "source": [
    "1. Alvaro Mauricio Montenegro Díaz, ammontenegrod@unal.edu.co\n",
    "2. Daniel Mauricio Montenegro Reyes, dextronomo@gmail.com \n",
    "3. Campo Elías Pardo Turriago, cepardot@unal.edu.co "
   ]
  },
  {
   "cell_type": "markdown",
   "id": "honest-google",
   "metadata": {},
   "source": [
    "##   <span style=\"color:blue\">Asesora Medios y Marketing digital</span>\n",
    " "
   ]
  },
  {
   "cell_type": "markdown",
   "id": "discrete-essex",
   "metadata": {},
   "source": [
    "4. Maria del Pilar Montenegro, pmontenegro88@gmail.com "
   ]
  },
  {
   "cell_type": "markdown",
   "id": "searching-objective",
   "metadata": {},
   "source": [
    "## <span style=\"color:blue\">Asistentes</span>"
   ]
  },
  {
   "cell_type": "markdown",
   "id": "excess-table",
   "metadata": {},
   "source": [
    "5. Oleg Jarma, ojarmam@unal.edu.co \n",
    "6. Laura Lizarazo, ljlizarazore@unal.edu.co "
   ]
  },
  {
   "cell_type": "markdown",
   "id": "authentic-mozambique",
   "metadata": {},
   "source": [
    "## Contenido"
   ]
  },
  {
   "cell_type": "markdown",
   "id": "advised-activity",
   "metadata": {},
   "source": []
  },
  {
   "cell_type": "markdown",
   "id": "opponent-concentration",
   "metadata": {},
   "source": [
    "##   <span style=\"color:blue\">Introducción</span>"
   ]
  },
  {
   "cell_type": "markdown",
   "id": "presidential-point",
   "metadata": {},
   "source": [
    "Los sistemas de información empresariales son implementados clásicamente sobre sistemas de gestión de bases de datos, cuya identificación genérica es  DBMS del inglés Data Base Management System. Una base de datos es una colección de datos relacionados. \n",
    "\n",
    "Un sistema de gestión de bases de datos (DBMS) es un sistema diseñado fundamentalmente con dos propósitos:\n",
    "\n",
    "    • Adicionar, eliminar o actualizar datos en una base de datos.\n",
    "    • Proveer varios caminos para visualizar los datos contenidos en las bases de datos. \n",
    "\n",
    "Si los datos son simples y los datos son pocos, la base de datos puede constar de una sola tabla (hoja de datos),  en cuyo caso una hoja electrónica y aún un editor de texto puede ser suficiente para mantener el sistema de información. \n",
    "\n",
    "Una base de datos que consta de una única tabla recibe el nombre de base de datos plana, y su construcción y mantenimiento no requiere del conocimiento de la teoría de bases de datos. \n",
    "\n",
    "Sin embargo los sistemas de información de aplicación real constan de cientos miles y aún millones de datos, con muchas e intrincadas relaciones entre ellos. \n",
    "\n",
    "En estos casos es esencial la construcción del diseño de una base de datos relacional. En adelante cada fila de una tabla se llamará registro y cada columna campo.\n"
   ]
  },
  {
   "cell_type": "markdown",
   "id": "small-lebanon",
   "metadata": {},
   "source": [
    "##   <span style=\"color:blue\">Problemas que se resuelven con una base de datos relacional</span>"
   ]
  },
  {
   "cell_type": "markdown",
   "id": "combined-hometown",
   "metadata": {},
   "source": [
    "El diseño de una base de datos relacional resuelve varios problemas que se presentan al usar una base de datos plana, y otros que estaban presenten en los sistemas de información antiguos diseñados sobre la plataforma de lenguajes de programación puros como Cobol, C, Pascal, etc."
   ]
  },
  {
   "cell_type": "markdown",
   "id": "smaller-virginia",
   "metadata": {},
   "source": [
    "### Redundancia"
   ]
  },
  {
   "cell_type": "markdown",
   "id": "accepted-japan",
   "metadata": {},
   "source": []
  },
  {
   "cell_type": "markdown",
   "id": "heated-feedback",
   "metadata": {},
   "source": [
    "El principal problema asociado con la implementación  de una única tabla es la utilización innecesaria de información repetida. La repetición de alguna información es siempre necesaria y lo se busca es remover hasta donde sea posible la información repetida.\n",
    "\n",
    "La siguiente tabala ilustra una base de datos plana. La base contiene datos de algunas instituciones colombianas e incluye un identificador, el nombre de la entidad, el objeto social, que como se observa puede ser mas de uno, la ciudad de ubicación y el departamento al que pertenece la ciudad. "
   ]
  },
  {
   "cell_type": "markdown",
   "id": "everyday-adaptation",
   "metadata": {},
   "source": [
    "La redundancia es evidente. Por ejemplo la institución de sigla “INCONTEC” con su IdInst (identificador de la institución),  nombre, ciudad y departamento esta repetida cuatro  veces, cada una con un objeto social distinto."
   ]
  },
  {
   "cell_type": "markdown",
   "id": "saved-progress",
   "metadata": {},
   "source": [
    "\n",
    "\n",
    "|IdInst|Nombre|Sigla|Objeto|Ciudad|Departamento|\n",
    "|---|---|---|---|---|---|\n",
    "|2202|Instituto Colombiano de la Reforma Agraria|INCORA|Educación|Santa Marta|Magdalena|\n",
    "|2202|Instituto Colombiano de la Reforma Agraria|INCORA|Investigación|Santa Marta|Magdalena|\n",
    "|2204|Instituto Colombiano de Medicina Tropical Antonio Roldan Betancur|ICMT|Educación|Medellín|Antioquia|\n",
    "|2204|Instituto Colombiano de Medicina Tropical Antonio Roldan Betancur|ICMT|Investigación|Medellín|Antioquia|\n",
    "|2204|Instituto Colombiano de Medicina Tropical Antonio Roldan Betancur|ICMT|Asesoría|Medellín|Antioquia|\n",
    "|2208|Instituto Colombiano de Normas Técnicas y Certificación|ICONTEC|Educación|Bogotá|Distrito Capital|\n",
    "|2208|Instituto Colombiano de Normas Técnicas y Certificación|ICONTEC|Investigación|Bogotá|Distrito Capital|\n",
    "|2208|Instituto Colombiano de Normas Técnicas y Certificación|ICONTEC|Asesoría|Bogotá|Distrito Capital|\n",
    "|2208|Instituto Colombiano de Normas Técnicas y Certificación|ICONTEC|Financiación|Bogotá|Distrito Capital|\n",
    "|2215|Instituto Colombiano para el Desarrollo de la Ciencia y la Tecnología Francisco José de Caldas|COLCIENCIAS|Educación|Bogotá|Distrito Capital|\n",
    "|2215|Instituto Colombiano para el Desarrollo de la Ciencia y la Tecnología Francisco José de Caldas|COLCIENCIAS|Investigación|Bogotá|Distrito Capital|\n",
    "\n",
    "\n",
    "<center> Tabla 1. Ejemplo de una base de datos plana</center>"
   ]
  },
  {
   "cell_type": "markdown",
   "id": "multiple-campbell",
   "metadata": {},
   "source": [
    "### Resolviendo la redundancia"
   ]
  },
  {
   "cell_type": "markdown",
   "id": "normal-satin",
   "metadata": {},
   "source": [
    "Con el propósito eliminar la redundancia hasta donde sea posible el diseñador de la base de datos debe dividir los datos en múltiples tablas. \n",
    "\n",
    "En el ejemplo anterior, se puede optar por dividir la base en cinco tablas separadas como sigue.\n",
    "\n",
    "+ Una tabla INSTITUCION mostrada en la Tabla   2, en la cual cada registro corresponde a una institución.\n",
    "+ Una tabla OBJETO_INSTITUCION que se muestra en la Tabla   3, en la cual cada objeto corresponde a un registro de la tabla.\n",
    "+ Una tabla CIUDAD que se encuentra en la  Tabla   4, en la cual cada registro corresponde a una ciudad.\n",
    "+ Una tabla DEPARTAMENTO que se observa en Tabla   5, en la que cada registro corresponde a un departamento.\n",
    "+ Finalmente la tabla INSTITUCION_OBJETO_SOCIAL mostrada en la Tabla   6, es requerida para conservar la información el objeto social de las instituciones.\n",
    "\n",
    "\n",
    "Ahora los nombres siglas de las instituciones, al igual que los nombres de las ciudades, de los departamentos y de los objetos sociales aparecen una sola vez. Es claro que aún existe redundancia en los datos, pero como se mencionó antes alguna redundancia es necesaria para mantener las relaciones entre los datos."
   ]
  },
  {
   "cell_type": "markdown",
   "id": "willing-links",
   "metadata": {},
   "source": [
    "\n",
    "|IdInst|Nombre|Sigla|IdCiu|\n",
    "|---|---|---|---|\n",
    "|2202|Instituto Colombiano de la Reforma Agraria|INCORA|2019|\n",
    "|2204|Instituto Colombiano de Medicina Tropical Antonio Roldan Betancur|ICMT|1324|\n",
    "|2208|Instituto Colombiano de Normas Técnicas y Certificación|ICONTEC|2032|\n",
    "|2215|Instituto Colombiano para el Desarrollo de la Ciencia y la Tecnología Francisco José de Caldas|COLCIENCIAS|2032|\n",
    "\n",
    "\n",
    "<center> Tabla 2. Tabla Institución Normalizada</center>\n"
   ]
  },
  {
   "cell_type": "markdown",
   "id": "miniature-server",
   "metadata": {},
   "source": [
    "|IdObjetoSocial|Objeto|\n",
    "|---|---|\n",
    "|1|Educación|\n",
    "|2|Investigación|\n",
    "|3|Tecnología|\n",
    "|4|Asesoría|\n",
    "|5|Financiación|\n",
    "\n",
    "<center> Tabla 3. Tabla Objeto social Normalizada</center>"
   ]
  },
  {
   "cell_type": "markdown",
   "id": "persistent-shoulder",
   "metadata": {},
   "source": [
    "|IdCiu|Ciudad|IdDep|\n",
    "|---|---|---|\n",
    "|1324|Medellín|70|\n",
    "|2019|Santa Marta|88|\n",
    "|2032|Bogotá|83|\n",
    "\n",
    "<center> Tabla 4. Tabla Ciudad Normalizada</center>"
   ]
  },
  {
   "cell_type": "markdown",
   "id": "exposed-weekly",
   "metadata": {},
   "source": [
    "|IdDep|NomDep|\n",
    "|---|---|\n",
    "|70|Antioquia|\n",
    "|88||Magdalena|\n",
    "|83|Distrito Capital|\n",
    "\n",
    "<center> Tabla 5. Tabla Departamento Normalizada</center>"
   ]
  },
  {
   "cell_type": "markdown",
   "id": "advance-addiction",
   "metadata": {},
   "source": [
    "|IdInst|IdObjetoSocial|\n",
    "|---|---|\n",
    "|2202|1|\n",
    "|2202|2|\n",
    "|2204|1|\n",
    "|2204|2|\n",
    "|2204|4|\n",
    "|2208|1|\n",
    "|2208|2|\n",
    "|2208|4|\n",
    "|2208|5|\n",
    "|2215|1|\n",
    "|2215|2|\n",
    "\n",
    "<center> Tabla 6. Tabla de Relación Institución-Objeto social</center>"
   ]
  },
  {
   "cell_type": "markdown",
   "id": "graduate-surgeon",
   "metadata": {},
   "source": [
    "Ahora los nombres siglas de las instituciones, al igual que loa nombres de las ciudades, de los departamentos y de los objetos sociales aparecen una sola vez. Es claro que aún existe redundancia en los datos, pero como se mencionó antes alguna redundancia es necesaria para mantener las relaciones entre los datos.\n",
    "\n",
    "\n",
    "Para el lector tenga una idea del ahorro de espacio al abrir la base plana en cinco tablas, suponga que para el almacenamiento de los campos numéricos se requieren 4 bytes de información y para la información textual se usa el siguiente almacenamiento: 30 caracteres para el nombre de la institución, 20 para el nombre de la ciudad y el departamento y 10 para la sigla. \n",
    "\n",
    "Un carácter por lo general se guarda en 2 bytes. ¿Cuál es la diferencia de almacenamiento si se tienen mil instituciones, 33 departamento, 1031 municipios (ciudades) y 50 objetos sociales?. Supóngase que las instituciones tienen en promedio 1.5  objetos sociales, es decir, que la base plana  tiene mil quinientos registros."
   ]
  },
  {
   "cell_type": "markdown",
   "id": "catholic-greece",
   "metadata": {},
   "source": [
    "### Problemas de múltiples valores"
   ]
  },
  {
   "cell_type": "markdown",
   "id": "statutory-rates",
   "metadata": {},
   "source": [
    "En el ejemplo se ha observado que una institución puede tener múltiples objetos sociales. Varias soluciones pueden proponerse para almacenar la información. \n",
    "\n",
    "+ La primera es la optada en la Tabla 1, en la cual se incluyen múltiples filas para cada institución, una por cada objeto social. \n",
    "+ Se pueden acomodar varias columnas para acomodar los múltiples objetos, una columna por cada objeto posible.\n",
    "+ Se pueden incluir todos los objetos sociales en la misma columna. \n",
    "\n",
    "La primera solución es un caso obvio de redundancia, como se vio antes. \n",
    "\n",
    "El problema de la segunda solución es que es necesario conocer de antemano el número máximo de posibles objetos sociales, lo que en la práctica es poco probable, además del enorme desperdicio de espacio por columnas  no utilizadas. \n",
    "\n",
    "La tercera solución es la mejor en manejo de espacio, sin embargo tiene el gran inconveniente de no permitir manipular individualmente los objetos sociales. Por ejemplo no es posible obtener directamente la lista de las instituciones que tienen por objeto social *investigación*, u obtener un listado de los objetos sociales."
   ]
  },
  {
   "cell_type": "markdown",
   "id": "fifty-principal",
   "metadata": {},
   "source": [
    "### Anomalías de actualización"
   ]
  },
  {
   "cell_type": "markdown",
   "id": "graduate-audio",
   "metadata": {},
   "source": [
    "Si se requiere actualizar, por ejemplo la ciudad de una institución en la base plana, es necesario hacer cambios en cada fila que contiene la respectiva institución. \n",
    "\n",
    "Si se olvida una fila se obtiene una anomalía de actualización y da como resultado una tabla inservible. "
   ]
  },
  {
   "cell_type": "markdown",
   "id": "informed-discrimination",
   "metadata": {},
   "source": [
    "### Anomalías de inserción"
   ]
  },
  {
   "cell_type": "markdown",
   "id": "lovely-cliff",
   "metadata": {},
   "source": [
    "Supóngase que se requiere insertar un nuevo objeto social en la base de datos plana INSTITUCION_PLANA (Tabla   1), pero aun no se tiene información de instituciones con ese objeto social. \n",
    "\n",
    "Si la información debe ser almacenada de todas maneras, se deben almacenar valores NULL en los campos para los cuales no hay información. \n",
    "\n",
    "Pero esto puede tener un problema. Por ejemplo el identificador de la institución(que podría ser el NIT)   puede tener la restricción de no admitir repeticiones con distintas instituciones. \n",
    "\n",
    "Si se incluyen varios registros con campos NULL en campos con tal restricción se genera una anomalía de inserción."
   ]
  },
  {
   "cell_type": "markdown",
   "id": "crazy-burns",
   "metadata": {},
   "source": [
    "### Anomalías de eliminación"
   ]
  },
  {
   "cell_type": "markdown",
   "id": "informal-dialogue",
   "metadata": {},
   "source": [
    "\n",
    "Si se eliminan todas las instituciones de la base INSTITUCION_PLANA (Tabla   1),  ubicadas en una  determinada ciudad se pierde la información de tal ciudad. \n",
    "\n",
    "Imagine que de la ciudad se tiene información adicional, por ejemplo de tipo estadístico, tal información se pierde. \n",
    "\n",
    "Este problema se conoce como anomalía de eliminación. \n",
    "\n",
    "Los problemas anteriores son suficientes para justificar la afirmación de que usar una única tabla no es una buena idea. \n",
    "\n",
    "Un buen diseño de base de datos implica que los datos deben ser divididos en varias tablas y que algunas relaciones deben establecerse entre tales tablas. \n",
    "\n",
    "Una base construida de tal forma recibe el nombre de base de datos relacional. No obstante, un diseño de una base de datos relacional no  garantiza eliminar todos los posibles problemas que pueden presentarse con los datos. \n",
    "\n",
    "Exiten ejemplos de problemas adicionales que no discutimos en este documento, pero usted puede empezar a imaginar.\n"
   ]
  },
  {
   "cell_type": "markdown",
   "id": "involved-forest",
   "metadata": {},
   "source": [
    "##   <span style=\"color:blue\">Arquitectura de un sistema de bases de datos </span>"
   ]
  },
  {
   "cell_type": "markdown",
   "id": "combined-mortality",
   "metadata": {},
   "source": [
    "### Niveles de abstracción de los datos"
   ]
  },
  {
   "cell_type": "markdown",
   "id": "disturbed-formula",
   "metadata": {},
   "source": [
    "Un sistema de gestión de base de datos (DBMS) es una colección de archivos interrelacionados y un conjunto de programas que permiten acceder y modificar esos archivos. Un objetivo importante de un sistema de gestión de bases de datos es proporcionar a los usuarios una visión abstracta de los datos. El sistema esconde los detalles de cómo se almacenan y mantienen los datos. Un sistema de bases normalmente se representa como en la figura 1."
   ]
  },
  {
   "cell_type": "markdown",
   "id": "modern-melissa",
   "metadata": {},
   "source": [
    "![image.png](../Imagenes/abstraccion.jpeg)\n",
    "<center> Niveles de abstracción de datos</center>"
   ]
  },
  {
   "cell_type": "markdown",
   "id": "generous-diameter",
   "metadata": {},
   "source": [
    "+ **Nivel conceptual.** Es la vista de un sistema de gestión de base de datos (DBMS) es una colección de archivos interrelacionados y un conjunto de programas que permiten acceder y modificar esos archivos. Un objetivo importante de un sistema de gestión de bases de datos es proporcionar a los usuarios una visión abstracta de los datos. El sistema esconde los detalles de cómo se almacenan y mantienen los datos. Un sistema de bases normalmente se representa como en la Figura   1 .3.\n",
    "+ **Nivel físico.** Es  el nivel más bajo de abstracción y describe la forma como los datos se almacenan realmente los datos. En este nivel se describen las estructuras de datose la base de datos como un todo. Este nivel describe la estructura lógica de los datos. En una base de datos relacional los datos son vistos en este nivel como una colección de tablas, con títulos en las columnas que describen los atributos o campos de aquellas. Algunas columnas son utilizadas para establecer relaciones entre tablas.\n",
    "    \n",
    "+ **Nivel de visión.** El nivel más alto de abstracción sólo describe una parte de la base de datos completa. Muchos usuarios de la base de datos están interesados solo en una parte de la base de datos. Para facilitar la interacción de tales usuarios con el sistema se define el nivel de abstracción de visión. El sistema puede proporcionar muchas visiones de la misma base de datos."
   ]
  },
  {
   "cell_type": "markdown",
   "id": "pediatric-johnson",
   "metadata": {},
   "source": [
    "### Sistema de gestión de una base de datos (DBMS)"
   ]
  },
  {
   "cell_type": "markdown",
   "id": "derived-franklin",
   "metadata": {},
   "source": [
    "Un DBMS es un sistema software responsable del manejo de todos los aspectos de una base de datos en todos los niveles. \n",
    "\n",
    "Las principales características de que dispone un DBMS son las siguientes:\n",
    "\n",
    "+ **Un mecanismo para la definición de la estructura de una base de datos** (compilador de DDL). Por lo general este mecanismo tiene la forma externa de un lenguaje de definición de datos, o DDL (Data Definition Language). \n",
    "+ **Un mecanismo para la manipulación de los datos** (precompilador DML). Incluye acceso a los datos, ordenación, búsqueda, y definición de filtros. Este mecanismo se conoce externamente como lenguaje de manipulación de datos, o DML (Data Manipulation Language). \n",
    "+ **Interacción con lenguajes o con aplicaciones de alto nivel.** Tales lenguajes toman el nombre de lenguajes anfitrión (host language) y las aplicaciones de alto nivel son llamadas aplicaciones anfitrionas (host application), que permiten la construcción de aplicaciones de propósitos específicos. La idea central es que el manejo de los datos se deja a la base de datos y las aplicaciones para los usuario se construyen en lenguajes anfitriones como C, C++, Visual Basic, etc., en lenguajes aplicativos de bases de datos como Microsoft ACCESS o en aplicaciones anfitrionas como hojas electrónicas y aun procesadores de palabra. \n",
    "\n",
    "\n",
    "+ **Control de concurrencia** para administrar el acceso multiusuario eficiente y correctamente.\n",
    "+ **Un Sistema de seguridad** de los datos.\n",
    "+ **Robustez**, es decir, la habilidad para recuperarse de fallas en el sistema sin pérdida de datos.\n",
    "+ **Un diccionario de datos**. Este es en realidad una base de datos que contiene la lista de definiciones de todos los aspectos de la base de datos. Esto quiere decir que el diccionario de datos es una base de datos de metadatos, es decir de datos sobre los datos. \n",
    "+ **Archivos de datos.** En donde se almacena la base de datos.\n",
    "+ **Indices**, que proporcionan acceso rápido a los elementos de datos que contienen determinados valores.\n",
    "+ **Un mecanismo de réplica*, conocido como motor de réplica (replication engine). El motor de réplica permite replicar o duplicar total o parcialmente los datos en diferentes sitios con el propósito de facilitar la manipulación desde distintos sitios. El motor de réplicas efectúa sincronizaciones periódicas.\n",
    "+ **Un gestor de archivos o administrador de interno de archivos**, que es responsable del almacenamiento y recuperación de los datos desde el archivo físico de la base de datos.\n",
    "+ **Una interface para comunicarse con bases de datos de otros DBMS**. El estándar de interoperatividad entre bases de datos actual es conocido como ODBC (Open Data Base Connetitivy)\n",
    "\n",
    "Los dos primeros mecanismos conforman lo que genéricamente se conoce como **motor de consulta (query engine)** de la base de datos. "
   ]
  },
  {
   "cell_type": "markdown",
   "id": "human-baseline",
   "metadata": {},
   "source": [
    "![SGBD](../Imagenes/SGBD.jpeg)\n",
    "\n",
    "<center>Sistema de gestión de una base de datos</center>"
   ]
  },
  {
   "cell_type": "markdown",
   "id": "lyric-aquarium",
   "metadata": {},
   "source": [
    "##   <span style=\"color:blue\">Modelo Entidad-Relación </span>"
   ]
  },
  {
   "cell_type": "markdown",
   "id": "academic-kuwait",
   "metadata": {},
   "source": [
    "### Introducción"
   ]
  },
  {
   "cell_type": "markdown",
   "id": "failing-location",
   "metadata": {},
   "source": [
    "El Modelaje entidad-relación es una técnica para definir necesidades de información en la organización. \n",
    "\n",
    "Este proporciona un firme fundamento para desarrollo de sistemas de información de alta calidad. \n",
    "\n",
    "En términos sencillos, el modelaje entidad-relación involucra la identificación de cosas  importantes en la organización (**entidades**), las propiedades de estas cosas (**atributos**) y como estas cosas están relacionadas entre sí (**relaciones**). \n",
    "\n",
    "Un modelo de este tipo se construye con base en un conjunto de técnicas gráficas, que pretenden describir en términos de datos los requerimientos de una organización, siendo el soporte para brindar información de tipo operativo, táctico y gerencial a las personas que la necesitan. \n",
    "\n",
    "La notación usada en este documento fue introducida por ORACLE y se ha convertido en un estándar para el diseño de bases de datos relacionales.\n"
   ]
  },
  {
   "cell_type": "markdown",
   "id": "living-protocol",
   "metadata": {},
   "source": [
    "### Entidades e instancias"
   ]
  },
  {
   "cell_type": "markdown",
   "id": "sporting-hypothetical",
   "metadata": {},
   "source": [
    "El propósito de una base de datos que forma parte de un sistema de información es almacenar información acerca de ciertos tipos de objetos. En el lenguaje de las bases de datos estos objetos son llamados **instancias**. \n",
    "\n",
    "\n",
    "Así, una entidad es una cosa u objeto de significancia, ya sea real o imaginaria, acerca de la cual se necesita tener información. El ejemplo de inicio, contiene entidades como ciudades, departamentos, instituciones.  \n",
    "\n",
    "Es importante hacer la diferencia entre las entidades que están contenidas en una base de datos en un momento dado(**instancias**) y el mundo de todas las posibles entidades que la base puede contener. \n",
    "\n",
    "La importancia radica en que el contenido de la base de datos cambia continuamente, y las decisiones no pueden tomarse sobre la información actual, sino que se debe pensar sobre el contenido de la base de datos en el futuro.  \n",
    "Por ejemplo la base datos del ejemplo puede 2450 entidades de tipo ciudad.  Sin embargo en el futuro se puede tener algunas otras mas y pueden eliminarse otras. \n",
    "\n",
    "Una **entidad** es el conjunto de todas las posibles instancias que una base de datos puede contener. \n",
    "\n",
    "En el ejemplo, el conjunto de todas las posibles ciudades es la clase entidad CIUDAD. \n",
    "\n",
    "En la implementación se suguiere agregar el prefijo tbl como una convención de nombrado de objetos. Otras clases entidad del ejemplo son: Departamento, Institución, Editorial, Idioma, etc.\n",
    "\n",
    "\n",
    "**"
   ]
  },
  {
   "cell_type": "markdown",
   "id": "radical-algeria",
   "metadata": {},
   "source": [
    "### Representación gráfica de entidades"
   ]
  },
  {
   "cell_type": "markdown",
   "id": "following-jordan",
   "metadata": {},
   "source": [
    "Una entidad se representa gráficamente mediante una caja de tipo Softbox (Un rectángulo con las esquinas redondeadas), rotulada con el nombre de la clase entidad correspondiente.\n",
    "\n",
    "El nombre de la entidad se escribe en singular y en mayúsculas en el centro de la parte superior de la caja.  \n",
    "\n",
    "El tamaño de la caja no tiene un estándar definido, sin embargo debe ser el suficiente de tal manera que permita la localización de un nombre no ambiguo (en lo posible sin abreviaciones). Esta representación esquemática es individual para cada una de las clases de entidades y debe ser lo suficientemente entendible, de tal manera que permita una interpretación clara de la entidad dentro del conjunto del modelo representado en un diagrama entidad-relación.\n",
    "\n",
    "El nombre para una entidad debe ser una representación  de un tipo o clase de cosa, no de una instancia (ocurrencia) o entidad particular. La siguientes figuras  muestran la forma correcta de representar una entidad y una una forma incorrecta respectivamente."
   ]
  },
  {
   "cell_type": "markdown",
   "id": "increasing-convenience",
   "metadata": {},
   "source": [
    "\n",
    "![SGBD](../Imagenes/entidad_correcta.jpeg)\n",
    "\n",
    "Entidades correctas"
   ]
  },
  {
   "cell_type": "markdown",
   "id": "increasing-colony",
   "metadata": {},
   "source": [
    "![SGBD](../Imagenes/No_es_entidad.jpeg)\n",
    "\n",
    "No son entidades"
   ]
  },
  {
   "cell_type": "markdown",
   "id": "north-organ",
   "metadata": {},
   "source": [
    "### Características generales de las entidades y de las clases de entidades"
   ]
  },
  {
   "cell_type": "markdown",
   "id": "engaged-montgomery",
   "metadata": {},
   "source": [
    "- Cualquier tipo de cosa u objeto puede solamente ser representado por una clase entidad, es decir las clases de entidades son mutuamente exclusivas en todos los casos.\n",
    "- Cada entidad debe ser identificable de manera única, es decir que cada instancia (ocurrencia) de la clase entidad deber ser separada y distinta de todas las otras instancias de la entidad.\n",
    "- Además de la representación en detalle de los requerimientos de información cada para cada clase entidad se requiere disponer de : \n",
    "        ◦ Nombre\n",
    "        ◦ Sinónimos (Otras forma o manera de denominación)\n",
    "        ◦ Volúmenes estimados\n",
    "        ◦ Descripción\n",
    "        ◦ Notas, Comentarios y las Observaciones\n",
    "    • Cada clase entidad tiene asociados\n",
    "        ◦ Atributos (Al menos dos)\n",
    "        ◦ Relaciones (Al menos una)\n",
    "        ◦ identificador único (Al menos uno)\n",
    "        ◦ Funciones del negocio involucradas con la Entidad (Al menos una)"
   ]
  },
  {
   "cell_type": "markdown",
   "id": "sapphire-monster",
   "metadata": {},
   "source": [
    "###  Taxonomía de las entidades"
   ]
  },
  {
   "cell_type": "markdown",
   "id": "pacific-onion",
   "metadata": {},
   "source": [
    "\n",
    "Las clases de entidades más típicas pueden clasificarse en\n",
    "\n",
    "- Sujetos. Personas y organizaciones que originan transacciones registradas en el sistema. Ejemplos:: Cliente, Proveedor, Empleado, Tercero, Estudiante, Dependencia.\n",
    "- Objetos. Entes tangibles, cuentas para los cuales se mantienen saldos afectados por las transacciones. Ejemplos: Artículo, Cuenta Contable.\n",
    "- Eventos. Transacciones (originadas por sujetos y que afectan objetos) generalmente registradas en documentos. Ejemplos: Novedades, Ajustes, Consignaciones.\n",
    "- Lugares. Ubicación de sujetos y objetos. Ejemplos: ciudad, región, edificio.\n",
    "- Abstracciones. Conceptos empleados para clasificar o medir otras entidades. Ejemplos: Tipo de Novedad, Unidad de Medida, Nivel de Cargo.\n",
    "\n",
    "Las abstracciones son un tipo particularmente importante de entidad, ya que dan origen a clasificaciones de las entidades.\n"
   ]
  },
  {
   "cell_type": "markdown",
   "id": "following-somalia",
   "metadata": {},
   "source": [
    "### Relaciones y conjuntos de relaciones"
   ]
  },
  {
   "cell_type": "markdown",
   "id": "portable-dealing",
   "metadata": {},
   "source": [
    "Una relación binaria es una asociación  entre dos entidades, que representa un vinculo de información entre dos fuentes dentro de la organización. \n",
    "\n",
    "En  la teoría general de bases de datos las relaciones pueden ser n-arias, en el modelo entidad–relación.  \n",
    "\n",
    "En lo que sigue siempre se consideran relaciones binarias. Más tarde veremos la forma de representar relaciones n-arias. \n",
    "\n",
    "Una relación es **binaria** en el sentido de que siempre es una asociación exactamente entre dos instancias de distinto tipo, o entre dos instancias del mismo tipo.\n",
    "\n",
    "Por ejemplo, entre las entidades Medellín (de la entidad Ciudad) y Antioquia (de la entidad Departamento) existe la relación binaria descrita por “Medellín está ubicada en Antioquia”. \n",
    "\n",
    "Nótese que varias entidades de tipo Ciudad están relacionadas con la entidad Antioquia exactamente en el mismo sentido.\n",
    "\n",
    "Esta relación se representa en forma abstracta como se indica a continuación"
   ]
  },
  {
   "cell_type": "markdown",
   "id": "alien-boost",
   "metadata": {},
   "source": [
    "![SGBD](../Imagenes/relacion_binaria.jpeg)\n",
    "\n",
    "Representación de una relación binaria entre instancias de entidades Ciudad- Departamento"
   ]
  },
  {
   "cell_type": "markdown",
   "id": "guided-frequency",
   "metadata": {},
   "source": [
    "![SGBD](../Imagenes/Relación_recursiva.jpeg)\n",
    "\n",
    "Representación de una relación binaria entre instancias de la entidad Institución\n",
    "\n",
    "¿Pueden imaginar un ejemplo de este tipo de relación?"
   ]
  },
  {
   "cell_type": "markdown",
   "id": "laden-nickname",
   "metadata": {},
   "source": [
    "### Formalismo matemático"
   ]
  },
  {
   "cell_type": "markdown",
   "id": "expired-treasurer",
   "metadata": {},
   "source": [
    "Un conjunto de relaciones es un conjunto de relaciones del mismo tipo.\n",
    "\n",
    "Formalmente un conjunto de relaciones es una relación matemática de  conjuntos de instancias, no necesariamente de diferente tipo. Si $E_1, E_2, ...E_n$, son conjuntos de instancias, entonces un conjunto de relaciones $R$ es un subconjunto del producto cartesiano\n",
    "\n",
    "$$\n",
    "E_1 \\times\\ldots E_n =\\{ (e_1,\\ldots,e_n): e_1\\in E_1,\\ldots, e_n\\in E_n \\}\n",
    "$$"
   ]
  },
  {
   "cell_type": "markdown",
   "id": "rising-workshop",
   "metadata": {},
   "source": [
    "### Representación gráfica de relaciones entre entidades"
   ]
  },
  {
   "cell_type": "markdown",
   "id": "judicial-grant",
   "metadata": {},
   "source": [
    "\n",
    "Las relaciones entre entidades se representan como líneas que conectan las cajas que representan a las entidades participantes en la asociación. \n",
    "\n",
    "Dentro de la representación se distinguen básicamente dos extremos, en razón del vinculo binario. \n",
    "\n",
    "Cada extremo se conecta a la caja de la entidad correspondiente. La Figura próxima presenta un ejemplo de representación de un relación binaria entre dos entidades de distinta clase.\n",
    "\n",
    "Como se explica un poco mas adelante, el gráfico representa una relación en donde una entidad de clase A se relaciona con a lo mas una entidad de la clase entidad B y a su vez una entidad de la clase B puede estar relacionada con muchas entidades de clase A.\n",
    "\n"
   ]
  },
  {
   "cell_type": "markdown",
   "id": "exciting-culture",
   "metadata": {},
   "source": [
    "![SGBD](../Imagenes/Grafica_relacion_binaria.jpeg)\n",
    "\n",
    "Representación gráfica de una relación binaria entre entidades de distinto tipo"
   ]
  },
  {
   "cell_type": "markdown",
   "id": "multiple-death",
   "metadata": {},
   "source": [
    "### Tipos de relaciones. Cardinalidad de asignación en las relaciones"
   ]
  },
  {
   "cell_type": "markdown",
   "id": "frozen-mitchell",
   "metadata": {},
   "source": [
    "La cardinalidad de asignación en la relaciones expresa el número de entidades con las que puede asociarse (vincularse o relacionarse) otra entidad en un conjunto de entidades. La cardinalidad o grado de asignación puede ser:\n",
    "\n",
    "\n",
    "1. **Una a una**. El tipo de relación es uno a uno (1:1).\n",
    "2.**Una a muchas**. El tipo de relación es uno a muchos (1:N)\n",
    "3. **Muchas a muchas**. El tipo de relación es muchos a muchos (N:M)."
   ]
  },
  {
   "cell_type": "markdown",
   "id": "automatic-monitoring",
   "metadata": {},
   "source": [
    "#### Relaciones uno a uno (1:1)"
   ]
  },
  {
   "cell_type": "markdown",
   "id": "herbal-somewhere",
   "metadata": {},
   "source": [
    "Una instancia de la entidad A se relaciona a lo mas con una y sólo una instancia de la clase entidad B y viceversa, es decir, una instancia de la clase entidad B se relaciona a lo mas con una y sólo una instancia de la entidad B. "
   ]
  },
  {
   "cell_type": "markdown",
   "id": "answering-nothing",
   "metadata": {},
   "source": [
    "\n",
    "![SGBD](../Imagenes/Relacion_uno_uno.jpeg)\n",
    "\n",
    "Representación gráfica de una relación binaria de tipo 1:1."
   ]
  },
  {
   "cell_type": "markdown",
   "id": "aware-routine",
   "metadata": {},
   "source": [
    "Esta es una forma de relación poco común, debido a que por lo general se trata de una separación de los atributos de una misma entidad. \n",
    "\n",
    "Un ejemplo típico de una relación de tipo 1 a 1 es considerar la clase entidad Persona y la clase entidad Planta. de una institución oficial. \n",
    "\n",
    "Cada cargo en la planta es ocupado por una y solo una persona. \n",
    "\n",
    "Por facilidad de manipulación de la base datos pueden ser mas conveniente mantener separadas las entidades de tipo Planta de las entidades de tipo Persona. "
   ]
  },
  {
   "cell_type": "markdown",
   "id": "macro-pennsylvania",
   "metadata": {},
   "source": [
    "\n",
    "![SGBD](../Imagenes/planta_perosna_1_1.jpeg)\n",
    "\n",
    "Representación gráfica de una relación Planta-Persona"
   ]
  },
  {
   "cell_type": "markdown",
   "id": "introductory-simpson",
   "metadata": {},
   "source": [
    "#### Relaciones uno a muchos (1:N)"
   ]
  },
  {
   "cell_type": "markdown",
   "id": "opposite-limitation",
   "metadata": {},
   "source": [
    "Una instancia en la entidad A se relaciona a los más con una entidad de tipo B. Una instancia en la  entidad B puede estar asociada con un número cualquiera de entidades de tipo A. "
   ]
  },
  {
   "cell_type": "markdown",
   "id": "dependent-elephant",
   "metadata": {},
   "source": [
    "\n",
    "![SGBD](../Imagenes/Representacion_1_N.jpeg)\n",
    "\n",
    "Representación gráfica de una relación 1:N entre instancias\n",
    "\n",
    "\n",
    "Algunos autores diferencian relaciones una a muchas de relaciones muchas a una. En este caso la figura corresponde a una relación muchas a una. Teóricamente, no existe diferencia y en este documento se usará únicamente la nomenclatura una a muchas.\n",
    "\n",
    "La Figura  siguiente es la representación abstracta en un modelo entidad-relación de un relación una a muchas entre instancias de la entidad B (extremo uno de la relación) e instancias de la entidad A (extremo muchos de la relación).\n"
   ]
  },
  {
   "cell_type": "markdown",
   "id": "touched-workshop",
   "metadata": {},
   "source": [
    "\n",
    "![SGBD](../Imagenes/uno_muchos_entidad.jpeg)\n",
    "\n",
    "Representación gráfica de una relación 1:N\n",
    "\n",
    "El siguiente es un ejemplo real de este tipo de relaciones"
   ]
  },
  {
   "cell_type": "markdown",
   "id": "configured-amino",
   "metadata": {},
   "source": [
    "\n",
    "\n",
    "![SGBD](../Imagenes/rel_ciudad_depto.jpeg)\n",
    "\n",
    "Ejemplo  de una relación Ciudad-Departamento\n",
    "\n",
    "Los letreros (roles) sugieren la forma de leer las relaciones. Por ejemplo la relación entre la entidad “Medellín” de tipo Ciudad y la entidad “Antioquia” de tipo Departamento, se puede leer como\n",
    "\n",
    "*Medellín está ubicada en Antioquia”, o, “Antioquia es el departamento de Medellín*"
   ]
  },
  {
   "cell_type": "markdown",
   "id": "atomic-murray",
   "metadata": {},
   "source": [
    "#### Convenio de notación"
   ]
  },
  {
   "cell_type": "markdown",
   "id": "sensitive-furniture",
   "metadata": {},
   "source": [
    "\n",
    "Para estandarizar la construcción del diagrama entidad–relación asociado al modelo entidad–relación se acuerda que en la representación de relaciones siempre se ubiquen las entidades de tal manera que el lado 1 quede colocado debajo o a la derecha y el lado N encima o a la izquierda. \n",
    "\n",
    "Adicionalmente se debe evitar hasta donde sea posible interceptar las líneas de relación. La figura  ilustra este convenio de notación. La figura muestra formas incorrectas de notación de acuerdo a esta convención.\n"
   ]
  },
  {
   "cell_type": "markdown",
   "id": "consecutive-driving",
   "metadata": {},
   "source": [
    "\n",
    "![SGBD](../Imagenes/convenio_notacion.jpeg)\n",
    "\n",
    "Convenio de notación\n",
    "\n"
   ]
  },
  {
   "cell_type": "markdown",
   "id": "applied-canberra",
   "metadata": {},
   "source": [
    "#### Relaciones muchos a muchos (M:N)"
   ]
  },
  {
   "cell_type": "markdown",
   "id": "sophisticated-check",
   "metadata": {},
   "source": [
    "Una instancia en A está asociada con un número cualquiera de instancias en B, y una instancia en B está asociada con un número cualquiera de instancias en A. "
   ]
  },
  {
   "cell_type": "markdown",
   "id": "judicial-mainland",
   "metadata": {},
   "source": [
    "![SGBD](../Imagenes/instancias_n_m.jpeg)\n",
    "\n",
    "\n",
    "\n",
    "Relación muchos a muchos entre instancias"
   ]
  },
  {
   "cell_type": "markdown",
   "id": "limiting-promise",
   "metadata": {},
   "source": [
    "Puesto que los dos extremos de la relación tienen grado muchos, en ambos extremos se coloca la \"pata de ave\".  \n",
    "\n",
    "Esta es una forma común de relación, aunque menos frecuente que la relación 1:N \n",
    "\n",
    "Las Figuras muestra como representar gráficamente una relación muchos a muchos en un diagrama entidad – relación"
   ]
  },
  {
   "cell_type": "markdown",
   "id": "conservative-comedy",
   "metadata": {},
   "source": [
    "![SGBD](../Imagenes/muchos_muchos.jpeg)\n",
    "\n",
    "\n",
    "\n",
    "Representación de una relación muchos a muchos"
   ]
  },
  {
   "cell_type": "markdown",
   "id": "restricted-healing",
   "metadata": {},
   "source": [
    "Un ejemplo típico de una relación muchos a muchos es la relación entre entidades de tipo Libro y entidades de tipo Autor. La figura  ilustra gráficamente la relación. \n",
    "\n",
    "Esta relación se interpreta de forma abstracta de la siguiente manera:\n",
    "\n",
    "- Un libro es escrito por uno o mas autores\n",
    "- Un autor es el autor de uno o más libros.\n"
   ]
  },
  {
   "cell_type": "markdown",
   "id": "medieval-disney",
   "metadata": {},
   "source": [
    "\n",
    "![SGBD](../Imagenes/autor_libro.jpeg)\n",
    "\n",
    "\n",
    "\n",
    "Ejemplo relación Autor-Libro"
   ]
  }
 ],
 "metadata": {
  "kernelspec": {
   "display_name": "Python 3",
   "language": "python",
   "name": "python3"
  },
  "language_info": {
   "codemirror_mode": {
    "name": "ipython",
    "version": 3
   },
   "file_extension": ".py",
   "mimetype": "text/x-python",
   "name": "python",
   "nbconvert_exporter": "python",
   "pygments_lexer": "ipython3",
   "version": "3.8.8"
  }
 },
 "nbformat": 4,
 "nbformat_minor": 5
}
