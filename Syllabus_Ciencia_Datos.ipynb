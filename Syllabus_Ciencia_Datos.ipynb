{
 "cells": [
  {
   "cell_type": "markdown",
   "metadata": {},
   "source": [
    "# <center> Curso de Ciencia de Datos</center> "
   ]
  },
  {
   "cell_type": "markdown",
   "metadata": {},
   "source": [
    "## Autores"
   ]
  },
  {
   "cell_type": "markdown",
   "metadata": {},
   "source": [
    "1. Alvaro Mauricio Montenegro Díaz, ammontenegrod@unal.edu.co\n",
    "2. Daniel Mauricio Montenegro Reyes, dextronomo@gmail.com "
   ]
  },
  {
   "cell_type": "markdown",
   "metadata": {},
   "source": [
    "## Referencias"
   ]
  },
  {
   "cell_type": "markdown",
   "metadata": {},
   "source": [
    "1. Alvaro Montenegro y  Daniel Montenegro, [Ciencia de Datos](https://github.com/AprendizajeProfundo/Ciencia-de-Datos), 2021\n",
    "2. Aston Zhang, Zachary C. Lipton, Mu Li, and Alexander J. Smola, [Dive into Deep Learning](https://d2l.ai/), 2021\n",
    "3.  Christofer. M. Bishop, [Pattern Recognition and machine Learning](http://libgen.rs/search.php?req=bishop+pattern&lg_topic=libgen&open=0&view=simple&res=25&phrase=1&column=def)\n",
    ", Second edition,Springer, 2006\n",
    "4. James V Stone, [Information Theory: A Tutorial Introduction](https://arxiv.org/pdf/1802.05968.pdf)\n",
    "5. John Hunt, [A Beginners Guide to Python 3 Programming](http://libgen.rs/search.php?req=A+Beginners+Guide+to+Python+3+Programming+hunt&open=0&res=25&view=simple&phrase=1&column=def), 2019\n",
    "6. John Hunt,[Advanced Guide to Python 3 Programming](http://libgen.rs/search.php?req=Advanced+Guide+to+Python+3+Programming+hunt&open=0&res=25&view=simple&phrase=1&column=def). 2019\n",
    "5. Rowel Atienza, [Advanced Deep Learning with TensorFlow 2 and Keras: Apply DL, GANs, VAEs, deep RL, unsupervised learning, object detection and segmentation, and more, 2nd Edition](http://libgen.rs/search.php?req=advanced+deep+learning+tensorflow+keras+atienza&open=0&res=25&view=simple&phrase=1&column=def), 2020.\n",
    "8. Joseph Howse, Joe Minichino, [Learning OpenCV 4 Computer Vision with Python 3: Get to grips with tools, techniques, and algorithms for computer vision and machine learning](http://libgen.rs/search.php?req=opencv+4&open=0&res=25&view=simple&phrase=1&column=def), 2019\n",
    "9. [Librosa](https://librosa.org/doc/latest/index.html), 2021\n",
    "10. [Nltk](https://www.nltk.org/), 2021\n",
    "11. [Gensim](https://radimrehurek.com/gensim/), 2021\n",
    "12. [OpenCV](https://docs.opencv.org/master/d6/d00/tutorial_py_root.html), 2021\n",
    "13. Tensorfow, [Time series Forcasting](https://www.tensorflow.org/tutorials/structured_data/time_series), 2021\n",
    "14. Oleg Jarma, [Instalación de Anaconda](https://www.youtube.com/watch?v=yKG-bzLZxyI&t), 2020"
   ]
  },
  {
   "cell_type": "markdown",
   "metadata": {},
   "source": [
    "## Tecnologías del curso"
   ]
  },
  {
   "cell_type": "markdown",
   "metadata": {},
   "source": [
    "Python, Tensorflow, JupyterLab, Github, OpenCv, Librosa, Nltk, Gensim "
   ]
  },
  {
   "cell_type": "markdown",
   "metadata": {},
   "source": [
    "## Fuentes de datos"
   ]
  },
  {
   "cell_type": "markdown",
   "metadata": {},
   "source": [
    "1. [Best Public Datasets for Machine Learning and Data Science](https://pub.towardsai.net/best-datasets-for-machine-learning-data-science-computer-vision-nlp-ai-c9541058cf4f)"
   ]
  },
  {
   "cell_type": "markdown",
   "metadata": {},
   "source": [
    "## Evaluación"
   ]
  },
  {
   "cell_type": "markdown",
   "metadata": {},
   "source": [
    "1. Un proyecto que será desarrollado por máximo dos personas a lo largo del curso. Total 70%.\n",
    "2. Seguimiento del proyecto. Asistencias a asesorías extraclase, Total 10%.\n",
    "3. Video promocional de cinco minutos sobre el proyecto, Total 5%.\n",
    "3. Una exposición final sobre el proyecto. Total 15%."
   ]
  },
  {
   "cell_type": "markdown",
   "metadata": {},
   "source": [
    "## Posibles proyectos de curso"
   ]
  },
  {
   "cell_type": "markdown",
   "metadata": {},
   "source": [
    "Revise los conjuntos de datos y tome una decisión la priema semana de clase."
   ]
  },
  {
   "cell_type": "markdown",
   "metadata": {},
   "source": [
    "## Contenido del curso"
   ]
  },
  {
   "cell_type": "markdown",
   "metadata": {},
   "source": [
    "### Introducción a Python"
   ]
  },
  {
   "cell_type": "markdown",
   "metadata": {},
   "source": [
    "1. Tipos de datos, Variables\n",
    "2. Estructuras de control\n",
    "3. Funciones\n",
    "4. Clases y objetos\n",
    "5. Herencia\n",
    "6. Manipulación de datos\n",
    "7. Visualización de datos"
   ]
  },
  {
   "cell_type": "markdown",
   "metadata": {},
   "source": [
    "### Matemáticas para Ciencia de Datos"
   ]
  },
  {
   "cell_type": "markdown",
   "metadata": {},
   "source": [
    "1. [Teoría de la Información.](./Cuadernos/Teoria_Informacion.ipynb)\n",
    "2. [Diferenciación automática](./Cuadernos/JAX_AutoDiff.ipynb),  [Diferenciación automática usando Tensorflow 2.1](./Cuadernos/AutoDiff_tf_2.ipynb)\n",
    "3. [Métodos de Optimización estocástica modernos](./Cuadernos/Optimizacion_M_Aprendizaje.ipynb)\n",
    "4. [Tensores y Algebra de Tensores](./Cuadernos/Intro_tensores.ipynb), [Introducción a Numpy](./Cuadernos/Intro_Numpy.ipynb)"
   ]
  },
  {
   "cell_type": "markdown",
   "metadata": {},
   "source": [
    "### Reducción de dimensión"
   ]
  },
  {
   "cell_type": "markdown",
   "metadata": {},
   "source": [
    "1. El curso de la dimensionalidad.\n",
    "2. Distribuciones de probabilidad en dimensiones grandes.\n",
    "3. Sobre transformaciones topológicas. Concepto de sumergimiento (embedding) en dimensiones más altas.\n",
    "3. Dimensión intrínsica de un conjunto de datos. q-dimensión.\n",
    "4. Codificación y decodificación. Pérdida de información.\n",
    "5. Reducción de datos normales. Análisis de componentes Principales (ACP).\n",
    "6. PCA probabilístico.\n",
    "7. Reducción de datos no normales. Análisis de componentes Independientes (ICA).\n",
    "8. Isomap."
   ]
  },
  {
   "cell_type": "markdown",
   "metadata": {},
   "source": [
    "### Métodos No supervisados. Clustering"
   ]
  },
  {
   "cell_type": "markdown",
   "metadata": {},
   "source": [
    "1. k-means\n",
    "2. Vecinos más cercanos\n",
    "3. Random Forest-clasificación (semi-supervisado)"
   ]
  },
  {
   "cell_type": "markdown",
   "metadata": {},
   "source": [
    "### Visualización de datos de altas dimensiones"
   ]
  },
  {
   "cell_type": "markdown",
   "metadata": {},
   "source": [
    "1. Planos Factoriales\n",
    "2. Mapas Auto Organizados (SOM)\n",
    "3. t-SNE"
   ]
  },
  {
   "cell_type": "markdown",
   "metadata": {},
   "source": [
    "### Procesamiento de Lenguaje Natural"
   ]
  },
  {
   "cell_type": "markdown",
   "metadata": {},
   "source": [
    "1. Conceptos básicos: limpieza, lematización,introducción a gensim y nltk\n",
    "2. Corpus de textos y espacios de vectores\n",
    "3. Tópicos y transformaciones\n",
    "4. Consultas de similaridades\n",
    "5. Modelo word2vec\n",
    "6. Modelo doc2vec\n",
    "7. Modelo Fast Text\n",
    "8. Modelo LDA\n",
    "10. Embeddings. Modeleo Glove"
   ]
  },
  {
   "cell_type": "markdown",
   "metadata": {},
   "source": [
    "### Métodos Supervisados -Clasificación"
   ]
  },
  {
   "cell_type": "markdown",
   "metadata": {},
   "source": [
    "1. Máquinas de Soporte Vectorial (SVM)\n",
    "2. Random Forest - Clasificación"
   ]
  },
  {
   "cell_type": "markdown",
   "metadata": {},
   "source": [
    "### Métodos supérvisados - Regresión"
   ]
  },
  {
   "cell_type": "markdown",
   "metadata": {},
   "source": [
    "1. Conceptos generales\n",
    "2. Estimación secuencial\n",
    "3. Regularización; regresión Lasso\n",
    "4. Distribuciones aprioris y posteriores\n",
    "5. Modelos generales de regresión: GAMLSS.\n",
    "6. Random Forest - Regresión\n",
    "6. Regresión usando tensorflow."
   ]
  },
  {
   "cell_type": "markdown",
   "metadata": {},
   "source": [
    "### Aprendizaje Profundo"
   ]
  },
  {
   "cell_type": "markdown",
   "metadata": {},
   "source": [
    "1. [Redes Neuronales](./Cuadernos/Intro_RNA.ipynb), [Red Neuronal desde cero usando keras](./Cuadernos/RNA_desde_cero_intro_keras.ipynb)\n",
    "2. [Redes convolucionadas](./Cuadernos/Convolucion_Redes.ipynb),[Visualizacion de filtros e imagenes filtradas](./Cuadernos/Convolucion_Redes_pretraining.ipynb), [Reconocimiento de digitos](./Cuadernos/Convolution_mnist.ipynb),[Reconocimiento de imagenes](Convolucion_mnist_fashion.ipynb)\n",
    "3. [Redes recurrentes LSTM](./Cuadernos/Intro_LSTM.ipynb), [Modelamiento de Series de tiempo](./Cuadernos/Times_series_dummy_intro.ipynb),\n",
    "[Predicción Valor acciones](./Cuadernos/Stock_Prices_Prediction.ipynb), [Predicción Apple](./Cuadernos/Stock_Prices_Apple.ipynb), [Series de Tiempo Multivariadas](./Cuadernos/Times_series_Multivariate.ipynb)\n",
    "4. [Redes recurrentes GRU](./Cuadernos/Intro_GRU.ipynb), [Predicción de texto 1](./Cuadernos/Char_generator_RNN.ipynb)\n",
    "5. [Autocodficadores](./Cuadernos/Auto_Encoder_clasifier.ipynb)\n",
    "6. [Introducción a Keras.sequential](./Cuadernos/Intro_Keras_Sequential.ipynb)\n",
    "7. [Introducción a la API funcional de  Keras](./Cuadernos/Intro_Keras_Functional.ipynb)\n",
    "8. [Redes ResNet](./Cuadernos/ResNet.ipynb)\n",
    "9. [Redes neuronales generativas. Redes adversarias](./Cuadernos/GAN.ipynb)\n",
    "10. [Autocodificadores Variacionales](./Cuadernos/VAI_Introduction.ipynb)\n",
    "10. Modelos Atencionales\n",
    "11. Transformers\n",
    "12. Modelo Bert\n",
    "13. NLP-parte II. Aplicaciones, análisis de sentimiento, traductores, chatbots."
   ]
  },
  {
   "cell_type": "markdown",
   "metadata": {},
   "source": [
    "<h2 align='center'>Inteligencia Artificial hoy</h2>\n",
    "\n",
    "\n",
    "Los agentes de IA entrenados por OpenAI jugaron 481 millones de juegos de escondite, muestran algunos comportamientos sorprendentes.\n",
    "\n",
    "[Gym Open AI](https://gym.openai.com/)\n",
    "\n",
    "[Artículo y video](https://openai.com/blog/emergent-tool-use/)"
   ]
  },
  {
   "cell_type": "markdown",
   "metadata": {},
   "source": [
    "[Desarrollos Aterradores de la IA](https://www.youtube.com/watch?v=IEBMi_LuFzE)"
   ]
  }
 ],
 "metadata": {
  "kernelspec": {
   "display_name": "Python 3",
   "language": "python",
   "name": "python3"
  },
  "language_info": {
   "codemirror_mode": {
    "name": "ipython",
    "version": 3
   },
   "file_extension": ".py",
   "mimetype": "text/x-python",
   "name": "python",
   "nbconvert_exporter": "python",
   "pygments_lexer": "ipython3",
   "version": "3.8.5"
  }
 },
 "nbformat": 4,
 "nbformat_minor": 4
}
